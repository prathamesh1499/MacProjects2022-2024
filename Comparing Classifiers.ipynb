{
  "cells": [
    {
      "cell_type": "markdown",
      "id": "ed3dcb66",
      "metadata": {
        "id": "ed3dcb66"
      },
      "source": [
        "# SEP 787 - COURSE PROJECT\n",
        "\n",
        "### Project Members:\n",
        "- Meet Patel - 400486035\n",
        "- Muskan - 400485934\n",
        "- Prathamesh Joshi - 400485705\n",
        "- Vishruth Bengaluru Subramanyam - 400486492\n",
        "\n",
        "### Project Objective:\n",
        "\n",
        "To compare the results derived from the classifications and obtain the below\n",
        "results:\n",
        "- Computational times for both training and testing\n",
        "- Grid Search Cross Validation for parameter selection\n",
        "- Plot and compare ROC (Receiver Operating Characteristic) curves\n",
        "- Confusion matrix of results from each classifier\n",
        "\n",
        "\n",
        "### Algorithms Used:\n",
        "- KNN\n",
        "- SVM\n",
        "- Gassian Niave Bayes\n",
        "\n"
      ]
    },
    {
      "cell_type": "markdown",
      "id": "daf3302f",
      "metadata": {
        "id": "daf3302f"
      },
      "source": [
        "## Loading Libraries "
      ]
    },
    {
      "cell_type": "code",
      "source": [
        "from google.colab import drive\n",
        "drive.mount('/content/drive')"
      ],
      "metadata": {
        "colab": {
          "base_uri": "https://localhost:8080/"
        },
        "id": "MgPoHB2pClT-",
        "outputId": "e0fdc23c-3ccf-4a5e-9b5c-9e65ccc25b7b"
      },
      "id": "MgPoHB2pClT-",
      "execution_count": null,
      "outputs": [
        {
          "output_type": "stream",
          "name": "stdout",
          "text": [
            "Drive already mounted at /content/drive; to attempt to forcibly remount, call drive.mount(\"/content/drive\", force_remount=True).\n"
          ]
        }
      ]
    },
    {
      "cell_type": "code",
      "execution_count": null,
      "id": "3180e036",
      "metadata": {
        "id": "3180e036"
      },
      "outputs": [],
      "source": [
        "# Importing essential libraries\n",
        "import pandas as pd\n",
        "import numpy as np\n",
        "import matplotlib.pyplot as plt\n",
        "\n",
        "# To ignore non-error warnings\n",
        "import warnings\n",
        "warnings.filterwarnings('ignore')\n",
        "\n",
        "# Loading K-Nearest Neighbors (KNN)\n",
        "from sklearn.neighbors import KNeighborsClassifier\n",
        "# Loading AdaBoost\n",
        "from sklearn.ensemble import AdaBoostClassifier\n",
        "# Loading Support Vector Machine (SVM)\n",
        "from sklearn.svm import SVC\n",
        "\n",
        "# For Metrics\n",
        "from sklearn import metrics\n",
        "from sklearn.metrics import roc_curve, auc\n",
        "from sklearn.impute import SimpleImputer\n",
        "import time\n",
        "\n",
        "# Test Train model selection & Cross validation score\n",
        "from sklearn.model_selection import train_test_split, cross_val_score\n",
        "# Precision_score, Recall_score, Confusion_matrix, Accuracy_score, F1_score\n",
        "from sklearn.metrics import precision_score, recall_score, confusion_matrix, accuracy_score, f1_score\n",
        "# Mean_absolute_error, Mean_squared_error\n",
        "from sklearn.metrics import mean_absolute_error, mean_squared_error"
      ]
    },
    {
      "cell_type": "markdown",
      "id": "a2a1c829",
      "metadata": {
        "id": "a2a1c829"
      },
      "source": [
        "## Loading Dataset"
      ]
    },
    {
      "cell_type": "code",
      "execution_count": null,
      "id": "449e3343",
      "metadata": {
        "id": "449e3343"
      },
      "outputs": [],
      "source": [
        "data = pd.read_excel('/content/drive/MyDrive/Colab Notebooks/ML AI /Project/Pumpkin_Seeds_Dataset.xlsx')"
      ]
    },
    {
      "cell_type": "code",
      "execution_count": null,
      "id": "566a0df8",
      "metadata": {
        "scrolled": true,
        "colab": {
          "base_uri": "https://localhost:8080/"
        },
        "id": "566a0df8",
        "outputId": "36e873d4-24a5-4432-e566-091539122ab7"
      },
      "outputs": [
        {
          "output_type": "execute_result",
          "data": {
            "text/plain": [
              "(2500, 13)"
            ]
          },
          "metadata": {},
          "execution_count": 63
        }
      ],
      "source": [
        "# Shape of the dataset\n",
        "data.shape"
      ]
    },
    {
      "cell_type": "code",
      "execution_count": null,
      "id": "8bf8da74",
      "metadata": {
        "colab": {
          "base_uri": "https://localhost:8080/",
          "height": 270
        },
        "id": "8bf8da74",
        "outputId": "ce0fb244-a069-4234-e029-09852febf64b"
      },
      "outputs": [
        {
          "output_type": "execute_result",
          "data": {
            "text/plain": [
              "    Area  Perimeter  Major_Axis_Length  Minor_Axis_Length  Convex_Area  \\\n",
              "0  56276    888.242           326.1485           220.2388        56831   \n",
              "1  76631   1068.146           417.1932           234.2289        77280   \n",
              "2  71623   1082.987           435.8328           211.0457        72663   \n",
              "3  66458    992.051           381.5638           222.5322        67118   \n",
              "4  66107    998.146           383.8883           220.4545        67117   \n",
              "\n",
              "   Equiv_Diameter  Eccentricity  Solidity  Extent  Roundness  Aspect_Ration  \\\n",
              "0        267.6805        0.7376    0.9902  0.7453     0.8963         1.4809   \n",
              "1        312.3614        0.8275    0.9916  0.7151     0.8440         1.7811   \n",
              "2        301.9822        0.8749    0.9857  0.7400     0.7674         2.0651   \n",
              "3        290.8899        0.8123    0.9902  0.7396     0.8486         1.7146   \n",
              "4        290.1207        0.8187    0.9850  0.6752     0.8338         1.7413   \n",
              "\n",
              "   Compactness       Class  \n",
              "0       0.8207  Çerçevelik  \n",
              "1       0.7487  Çerçevelik  \n",
              "2       0.6929  Çerçevelik  \n",
              "3       0.7624  Çerçevelik  \n",
              "4       0.7557  Çerçevelik  "
            ],
            "text/html": [
              "\n",
              "  <div id=\"df-808973db-f8d4-414e-a52f-1581c166c886\">\n",
              "    <div class=\"colab-df-container\">\n",
              "      <div>\n",
              "<style scoped>\n",
              "    .dataframe tbody tr th:only-of-type {\n",
              "        vertical-align: middle;\n",
              "    }\n",
              "\n",
              "    .dataframe tbody tr th {\n",
              "        vertical-align: top;\n",
              "    }\n",
              "\n",
              "    .dataframe thead th {\n",
              "        text-align: right;\n",
              "    }\n",
              "</style>\n",
              "<table border=\"1\" class=\"dataframe\">\n",
              "  <thead>\n",
              "    <tr style=\"text-align: right;\">\n",
              "      <th></th>\n",
              "      <th>Area</th>\n",
              "      <th>Perimeter</th>\n",
              "      <th>Major_Axis_Length</th>\n",
              "      <th>Minor_Axis_Length</th>\n",
              "      <th>Convex_Area</th>\n",
              "      <th>Equiv_Diameter</th>\n",
              "      <th>Eccentricity</th>\n",
              "      <th>Solidity</th>\n",
              "      <th>Extent</th>\n",
              "      <th>Roundness</th>\n",
              "      <th>Aspect_Ration</th>\n",
              "      <th>Compactness</th>\n",
              "      <th>Class</th>\n",
              "    </tr>\n",
              "  </thead>\n",
              "  <tbody>\n",
              "    <tr>\n",
              "      <th>0</th>\n",
              "      <td>56276</td>\n",
              "      <td>888.242</td>\n",
              "      <td>326.1485</td>\n",
              "      <td>220.2388</td>\n",
              "      <td>56831</td>\n",
              "      <td>267.6805</td>\n",
              "      <td>0.7376</td>\n",
              "      <td>0.9902</td>\n",
              "      <td>0.7453</td>\n",
              "      <td>0.8963</td>\n",
              "      <td>1.4809</td>\n",
              "      <td>0.8207</td>\n",
              "      <td>Çerçevelik</td>\n",
              "    </tr>\n",
              "    <tr>\n",
              "      <th>1</th>\n",
              "      <td>76631</td>\n",
              "      <td>1068.146</td>\n",
              "      <td>417.1932</td>\n",
              "      <td>234.2289</td>\n",
              "      <td>77280</td>\n",
              "      <td>312.3614</td>\n",
              "      <td>0.8275</td>\n",
              "      <td>0.9916</td>\n",
              "      <td>0.7151</td>\n",
              "      <td>0.8440</td>\n",
              "      <td>1.7811</td>\n",
              "      <td>0.7487</td>\n",
              "      <td>Çerçevelik</td>\n",
              "    </tr>\n",
              "    <tr>\n",
              "      <th>2</th>\n",
              "      <td>71623</td>\n",
              "      <td>1082.987</td>\n",
              "      <td>435.8328</td>\n",
              "      <td>211.0457</td>\n",
              "      <td>72663</td>\n",
              "      <td>301.9822</td>\n",
              "      <td>0.8749</td>\n",
              "      <td>0.9857</td>\n",
              "      <td>0.7400</td>\n",
              "      <td>0.7674</td>\n",
              "      <td>2.0651</td>\n",
              "      <td>0.6929</td>\n",
              "      <td>Çerçevelik</td>\n",
              "    </tr>\n",
              "    <tr>\n",
              "      <th>3</th>\n",
              "      <td>66458</td>\n",
              "      <td>992.051</td>\n",
              "      <td>381.5638</td>\n",
              "      <td>222.5322</td>\n",
              "      <td>67118</td>\n",
              "      <td>290.8899</td>\n",
              "      <td>0.8123</td>\n",
              "      <td>0.9902</td>\n",
              "      <td>0.7396</td>\n",
              "      <td>0.8486</td>\n",
              "      <td>1.7146</td>\n",
              "      <td>0.7624</td>\n",
              "      <td>Çerçevelik</td>\n",
              "    </tr>\n",
              "    <tr>\n",
              "      <th>4</th>\n",
              "      <td>66107</td>\n",
              "      <td>998.146</td>\n",
              "      <td>383.8883</td>\n",
              "      <td>220.4545</td>\n",
              "      <td>67117</td>\n",
              "      <td>290.1207</td>\n",
              "      <td>0.8187</td>\n",
              "      <td>0.9850</td>\n",
              "      <td>0.6752</td>\n",
              "      <td>0.8338</td>\n",
              "      <td>1.7413</td>\n",
              "      <td>0.7557</td>\n",
              "      <td>Çerçevelik</td>\n",
              "    </tr>\n",
              "  </tbody>\n",
              "</table>\n",
              "</div>\n",
              "      <button class=\"colab-df-convert\" onclick=\"convertToInteractive('df-808973db-f8d4-414e-a52f-1581c166c886')\"\n",
              "              title=\"Convert this dataframe to an interactive table.\"\n",
              "              style=\"display:none;\">\n",
              "        \n",
              "  <svg xmlns=\"http://www.w3.org/2000/svg\" height=\"24px\"viewBox=\"0 0 24 24\"\n",
              "       width=\"24px\">\n",
              "    <path d=\"M0 0h24v24H0V0z\" fill=\"none\"/>\n",
              "    <path d=\"M18.56 5.44l.94 2.06.94-2.06 2.06-.94-2.06-.94-.94-2.06-.94 2.06-2.06.94zm-11 1L8.5 8.5l.94-2.06 2.06-.94-2.06-.94L8.5 2.5l-.94 2.06-2.06.94zm10 10l.94 2.06.94-2.06 2.06-.94-2.06-.94-.94-2.06-.94 2.06-2.06.94z\"/><path d=\"M17.41 7.96l-1.37-1.37c-.4-.4-.92-.59-1.43-.59-.52 0-1.04.2-1.43.59L10.3 9.45l-7.72 7.72c-.78.78-.78 2.05 0 2.83L4 21.41c.39.39.9.59 1.41.59.51 0 1.02-.2 1.41-.59l7.78-7.78 2.81-2.81c.8-.78.8-2.07 0-2.86zM5.41 20L4 18.59l7.72-7.72 1.47 1.35L5.41 20z\"/>\n",
              "  </svg>\n",
              "      </button>\n",
              "      \n",
              "  <style>\n",
              "    .colab-df-container {\n",
              "      display:flex;\n",
              "      flex-wrap:wrap;\n",
              "      gap: 12px;\n",
              "    }\n",
              "\n",
              "    .colab-df-convert {\n",
              "      background-color: #E8F0FE;\n",
              "      border: none;\n",
              "      border-radius: 50%;\n",
              "      cursor: pointer;\n",
              "      display: none;\n",
              "      fill: #1967D2;\n",
              "      height: 32px;\n",
              "      padding: 0 0 0 0;\n",
              "      width: 32px;\n",
              "    }\n",
              "\n",
              "    .colab-df-convert:hover {\n",
              "      background-color: #E2EBFA;\n",
              "      box-shadow: 0px 1px 2px rgba(60, 64, 67, 0.3), 0px 1px 3px 1px rgba(60, 64, 67, 0.15);\n",
              "      fill: #174EA6;\n",
              "    }\n",
              "\n",
              "    [theme=dark] .colab-df-convert {\n",
              "      background-color: #3B4455;\n",
              "      fill: #D2E3FC;\n",
              "    }\n",
              "\n",
              "    [theme=dark] .colab-df-convert:hover {\n",
              "      background-color: #434B5C;\n",
              "      box-shadow: 0px 1px 3px 1px rgba(0, 0, 0, 0.15);\n",
              "      filter: drop-shadow(0px 1px 2px rgba(0, 0, 0, 0.3));\n",
              "      fill: #FFFFFF;\n",
              "    }\n",
              "  </style>\n",
              "\n",
              "      <script>\n",
              "        const buttonEl =\n",
              "          document.querySelector('#df-808973db-f8d4-414e-a52f-1581c166c886 button.colab-df-convert');\n",
              "        buttonEl.style.display =\n",
              "          google.colab.kernel.accessAllowed ? 'block' : 'none';\n",
              "\n",
              "        async function convertToInteractive(key) {\n",
              "          const element = document.querySelector('#df-808973db-f8d4-414e-a52f-1581c166c886');\n",
              "          const dataTable =\n",
              "            await google.colab.kernel.invokeFunction('convertToInteractive',\n",
              "                                                     [key], {});\n",
              "          if (!dataTable) return;\n",
              "\n",
              "          const docLinkHtml = 'Like what you see? Visit the ' +\n",
              "            '<a target=\"_blank\" href=https://colab.research.google.com/notebooks/data_table.ipynb>data table notebook</a>'\n",
              "            + ' to learn more about interactive tables.';\n",
              "          element.innerHTML = '';\n",
              "          dataTable['output_type'] = 'display_data';\n",
              "          await google.colab.output.renderOutput(dataTable, element);\n",
              "          const docLink = document.createElement('div');\n",
              "          docLink.innerHTML = docLinkHtml;\n",
              "          element.appendChild(docLink);\n",
              "        }\n",
              "      </script>\n",
              "    </div>\n",
              "  </div>\n",
              "  "
            ]
          },
          "metadata": {},
          "execution_count": 64
        }
      ],
      "source": [
        "# Sample records from the dataset\n",
        "data.head()"
      ]
    },
    {
      "cell_type": "code",
      "execution_count": null,
      "id": "9e3cb3ae",
      "metadata": {
        "colab": {
          "base_uri": "https://localhost:8080/"
        },
        "id": "9e3cb3ae",
        "outputId": "74824fb9-985c-4276-f190-b882ce34f32c"
      },
      "outputs": [
        {
          "output_type": "execute_result",
          "data": {
            "text/plain": [
              "Area                 0\n",
              "Perimeter            0\n",
              "Major_Axis_Length    0\n",
              "Minor_Axis_Length    0\n",
              "Convex_Area          0\n",
              "Equiv_Diameter       0\n",
              "Eccentricity         0\n",
              "Solidity             0\n",
              "Extent               0\n",
              "Roundness            0\n",
              "Aspect_Ration        0\n",
              "Compactness          0\n",
              "Class                0\n",
              "dtype: int64"
            ]
          },
          "metadata": {},
          "execution_count": 65
        }
      ],
      "source": [
        "# Finding the precence of Null values in the Dataset (Handling Null Values)\n",
        "data.isnull().sum().sort_values(ascending=False)"
      ]
    },
    {
      "cell_type": "code",
      "execution_count": null,
      "id": "052f39f2",
      "metadata": {
        "colab": {
          "base_uri": "https://localhost:8080/",
          "height": 457
        },
        "id": "052f39f2",
        "outputId": "b7380a7a-4499-4a5d-f2dd-26b57b8fd186"
      },
      "outputs": [
        {
          "output_type": "execute_result",
          "data": {
            "text/plain": [
              "                         Column_Name  % Missing\n",
              "Area                            Area        0.0\n",
              "Perimeter                  Perimeter        0.0\n",
              "Major_Axis_Length  Major_Axis_Length        0.0\n",
              "Minor_Axis_Length  Minor_Axis_Length        0.0\n",
              "Convex_Area              Convex_Area        0.0\n",
              "Equiv_Diameter        Equiv_Diameter        0.0\n",
              "Eccentricity            Eccentricity        0.0\n",
              "Solidity                    Solidity        0.0\n",
              "Extent                        Extent        0.0\n",
              "Roundness                  Roundness        0.0\n",
              "Aspect_Ration          Aspect_Ration        0.0\n",
              "Compactness              Compactness        0.0\n",
              "Class                          Class        0.0"
            ],
            "text/html": [
              "\n",
              "  <div id=\"df-4c57795a-889d-4f0c-998f-688f184d977e\">\n",
              "    <div class=\"colab-df-container\">\n",
              "      <div>\n",
              "<style scoped>\n",
              "    .dataframe tbody tr th:only-of-type {\n",
              "        vertical-align: middle;\n",
              "    }\n",
              "\n",
              "    .dataframe tbody tr th {\n",
              "        vertical-align: top;\n",
              "    }\n",
              "\n",
              "    .dataframe thead th {\n",
              "        text-align: right;\n",
              "    }\n",
              "</style>\n",
              "<table border=\"1\" class=\"dataframe\">\n",
              "  <thead>\n",
              "    <tr style=\"text-align: right;\">\n",
              "      <th></th>\n",
              "      <th>Column_Name</th>\n",
              "      <th>% Missing</th>\n",
              "    </tr>\n",
              "  </thead>\n",
              "  <tbody>\n",
              "    <tr>\n",
              "      <th>Area</th>\n",
              "      <td>Area</td>\n",
              "      <td>0.0</td>\n",
              "    </tr>\n",
              "    <tr>\n",
              "      <th>Perimeter</th>\n",
              "      <td>Perimeter</td>\n",
              "      <td>0.0</td>\n",
              "    </tr>\n",
              "    <tr>\n",
              "      <th>Major_Axis_Length</th>\n",
              "      <td>Major_Axis_Length</td>\n",
              "      <td>0.0</td>\n",
              "    </tr>\n",
              "    <tr>\n",
              "      <th>Minor_Axis_Length</th>\n",
              "      <td>Minor_Axis_Length</td>\n",
              "      <td>0.0</td>\n",
              "    </tr>\n",
              "    <tr>\n",
              "      <th>Convex_Area</th>\n",
              "      <td>Convex_Area</td>\n",
              "      <td>0.0</td>\n",
              "    </tr>\n",
              "    <tr>\n",
              "      <th>Equiv_Diameter</th>\n",
              "      <td>Equiv_Diameter</td>\n",
              "      <td>0.0</td>\n",
              "    </tr>\n",
              "    <tr>\n",
              "      <th>Eccentricity</th>\n",
              "      <td>Eccentricity</td>\n",
              "      <td>0.0</td>\n",
              "    </tr>\n",
              "    <tr>\n",
              "      <th>Solidity</th>\n",
              "      <td>Solidity</td>\n",
              "      <td>0.0</td>\n",
              "    </tr>\n",
              "    <tr>\n",
              "      <th>Extent</th>\n",
              "      <td>Extent</td>\n",
              "      <td>0.0</td>\n",
              "    </tr>\n",
              "    <tr>\n",
              "      <th>Roundness</th>\n",
              "      <td>Roundness</td>\n",
              "      <td>0.0</td>\n",
              "    </tr>\n",
              "    <tr>\n",
              "      <th>Aspect_Ration</th>\n",
              "      <td>Aspect_Ration</td>\n",
              "      <td>0.0</td>\n",
              "    </tr>\n",
              "    <tr>\n",
              "      <th>Compactness</th>\n",
              "      <td>Compactness</td>\n",
              "      <td>0.0</td>\n",
              "    </tr>\n",
              "    <tr>\n",
              "      <th>Class</th>\n",
              "      <td>Class</td>\n",
              "      <td>0.0</td>\n",
              "    </tr>\n",
              "  </tbody>\n",
              "</table>\n",
              "</div>\n",
              "      <button class=\"colab-df-convert\" onclick=\"convertToInteractive('df-4c57795a-889d-4f0c-998f-688f184d977e')\"\n",
              "              title=\"Convert this dataframe to an interactive table.\"\n",
              "              style=\"display:none;\">\n",
              "        \n",
              "  <svg xmlns=\"http://www.w3.org/2000/svg\" height=\"24px\"viewBox=\"0 0 24 24\"\n",
              "       width=\"24px\">\n",
              "    <path d=\"M0 0h24v24H0V0z\" fill=\"none\"/>\n",
              "    <path d=\"M18.56 5.44l.94 2.06.94-2.06 2.06-.94-2.06-.94-.94-2.06-.94 2.06-2.06.94zm-11 1L8.5 8.5l.94-2.06 2.06-.94-2.06-.94L8.5 2.5l-.94 2.06-2.06.94zm10 10l.94 2.06.94-2.06 2.06-.94-2.06-.94-.94-2.06-.94 2.06-2.06.94z\"/><path d=\"M17.41 7.96l-1.37-1.37c-.4-.4-.92-.59-1.43-.59-.52 0-1.04.2-1.43.59L10.3 9.45l-7.72 7.72c-.78.78-.78 2.05 0 2.83L4 21.41c.39.39.9.59 1.41.59.51 0 1.02-.2 1.41-.59l7.78-7.78 2.81-2.81c.8-.78.8-2.07 0-2.86zM5.41 20L4 18.59l7.72-7.72 1.47 1.35L5.41 20z\"/>\n",
              "  </svg>\n",
              "      </button>\n",
              "      \n",
              "  <style>\n",
              "    .colab-df-container {\n",
              "      display:flex;\n",
              "      flex-wrap:wrap;\n",
              "      gap: 12px;\n",
              "    }\n",
              "\n",
              "    .colab-df-convert {\n",
              "      background-color: #E8F0FE;\n",
              "      border: none;\n",
              "      border-radius: 50%;\n",
              "      cursor: pointer;\n",
              "      display: none;\n",
              "      fill: #1967D2;\n",
              "      height: 32px;\n",
              "      padding: 0 0 0 0;\n",
              "      width: 32px;\n",
              "    }\n",
              "\n",
              "    .colab-df-convert:hover {\n",
              "      background-color: #E2EBFA;\n",
              "      box-shadow: 0px 1px 2px rgba(60, 64, 67, 0.3), 0px 1px 3px 1px rgba(60, 64, 67, 0.15);\n",
              "      fill: #174EA6;\n",
              "    }\n",
              "\n",
              "    [theme=dark] .colab-df-convert {\n",
              "      background-color: #3B4455;\n",
              "      fill: #D2E3FC;\n",
              "    }\n",
              "\n",
              "    [theme=dark] .colab-df-convert:hover {\n",
              "      background-color: #434B5C;\n",
              "      box-shadow: 0px 1px 3px 1px rgba(0, 0, 0, 0.15);\n",
              "      filter: drop-shadow(0px 1px 2px rgba(0, 0, 0, 0.3));\n",
              "      fill: #FFFFFF;\n",
              "    }\n",
              "  </style>\n",
              "\n",
              "      <script>\n",
              "        const buttonEl =\n",
              "          document.querySelector('#df-4c57795a-889d-4f0c-998f-688f184d977e button.colab-df-convert');\n",
              "        buttonEl.style.display =\n",
              "          google.colab.kernel.accessAllowed ? 'block' : 'none';\n",
              "\n",
              "        async function convertToInteractive(key) {\n",
              "          const element = document.querySelector('#df-4c57795a-889d-4f0c-998f-688f184d977e');\n",
              "          const dataTable =\n",
              "            await google.colab.kernel.invokeFunction('convertToInteractive',\n",
              "                                                     [key], {});\n",
              "          if (!dataTable) return;\n",
              "\n",
              "          const docLinkHtml = 'Like what you see? Visit the ' +\n",
              "            '<a target=\"_blank\" href=https://colab.research.google.com/notebooks/data_table.ipynb>data table notebook</a>'\n",
              "            + ' to learn more about interactive tables.';\n",
              "          element.innerHTML = '';\n",
              "          dataTable['output_type'] = 'display_data';\n",
              "          await google.colab.output.renderOutput(dataTable, element);\n",
              "          const docLink = document.createElement('div');\n",
              "          docLink.innerHTML = docLinkHtml;\n",
              "          element.appendChild(docLink);\n",
              "        }\n",
              "      </script>\n",
              "    </div>\n",
              "  </div>\n",
              "  "
            ]
          },
          "metadata": {},
          "execution_count": 66
        }
      ],
      "source": [
        "# Finding the percentage of NaN values\n",
        "percent_missing = data.isnull().sum() * 100 / len(data)\n",
        "missing_value_df = pd.DataFrame({'Column_Name': data.columns,'% Missing': percent_missing})\n",
        "missing_value_df.sort_values(by='% Missing', ascending=False)"
      ]
    },
    {
      "cell_type": "markdown",
      "id": "75dbf320",
      "metadata": {
        "id": "75dbf320"
      },
      "source": [
        "## Defining Features and Target"
      ]
    },
    {
      "cell_type": "code",
      "source": [
        "data['Class'] = data['Class'].replace('Çerçevelik',0)\n",
        "data['Class'] = data['Class'].replace('Ürgüp Sivrisi',1)"
      ],
      "metadata": {
        "id": "WVYSsl5ePCcX"
      },
      "id": "WVYSsl5ePCcX",
      "execution_count": null,
      "outputs": []
    },
    {
      "cell_type": "code",
      "execution_count": null,
      "id": "264941c6",
      "metadata": {
        "scrolled": true,
        "colab": {
          "base_uri": "https://localhost:8080/"
        },
        "id": "264941c6",
        "outputId": "bc005f28-5074-4a49-db71-d6c7ac473d04"
      },
      "outputs": [
        {
          "output_type": "stream",
          "name": "stdout",
          "text": [
            "\n",
            "Shape of the Features:  (2500, 12)\n",
            "Columns in the Features:  Index(['Area', 'Perimeter', 'Major_Axis_Length', 'Minor_Axis_Length',\n",
            "       'Convex_Area', 'Equiv_Diameter', 'Eccentricity', 'Solidity', 'Extent',\n",
            "       'Roundness', 'Aspect_Ration', 'Compactness'],\n",
            "      dtype='object')\n",
            "\n",
            "Shape of the Target:  (2500,)\n",
            "Type of the Target:  <class 'pandas.core.series.Series'>\n"
          ]
        }
      ],
      "source": [
        "features = data.drop(['Class'], axis=1)\n",
        "target = data[\"Class\"]\n",
        "\n",
        "print(\"\\nShape of the Features: \", features.shape)\n",
        "print(\"Columns in the Features: \", features.columns)\n",
        "\n",
        "print(\"\\nShape of the Target: \", target.shape)\n",
        "print(\"Type of the Target: \", type(target))"
      ]
    },
    {
      "cell_type": "code",
      "source": [
        "target = target.to_numpy()"
      ],
      "metadata": {
        "id": "nZcCmgwMQVOk"
      },
      "id": "nZcCmgwMQVOk",
      "execution_count": null,
      "outputs": []
    },
    {
      "cell_type": "code",
      "source": [
        "target = target.reshape(2500,1)"
      ],
      "metadata": {
        "id": "pID_2d3eQYot"
      },
      "id": "pID_2d3eQYot",
      "execution_count": null,
      "outputs": []
    },
    {
      "cell_type": "code",
      "source": [
        "target = pd.DataFrame(target)"
      ],
      "metadata": {
        "id": "sL4W_8uCRRGW"
      },
      "id": "sL4W_8uCRRGW",
      "execution_count": null,
      "outputs": []
    },
    {
      "cell_type": "code",
      "source": [
        "type(target)"
      ],
      "metadata": {
        "colab": {
          "base_uri": "https://localhost:8080/"
        },
        "id": "dIfg5AeNRbpG",
        "outputId": "7b36ea68-e9c2-4dff-e6b6-5b2dd730bf63"
      },
      "id": "dIfg5AeNRbpG",
      "execution_count": null,
      "outputs": [
        {
          "output_type": "execute_result",
          "data": {
            "text/plain": [
              "pandas.core.frame.DataFrame"
            ]
          },
          "metadata": {},
          "execution_count": 72
        }
      ]
    },
    {
      "cell_type": "code",
      "source": [
        "# print('Equal number of death and survival rate for the Dataset which is balanced using SMOTE technique')\n",
        "data['Class'].value_counts()\n"
      ],
      "metadata": {
        "colab": {
          "base_uri": "https://localhost:8080/"
        },
        "id": "iZakUICMOaRq",
        "outputId": "ee8d360c-9a56-4ce6-c2cf-683a8d6ef1a5"
      },
      "id": "iZakUICMOaRq",
      "execution_count": null,
      "outputs": [
        {
          "output_type": "execute_result",
          "data": {
            "text/plain": [
              "0    1300\n",
              "1    1200\n",
              "Name: Class, dtype: int64"
            ]
          },
          "metadata": {},
          "execution_count": 73
        }
      ]
    },
    {
      "cell_type": "code",
      "source": [
        "data.head()"
      ],
      "metadata": {
        "colab": {
          "base_uri": "https://localhost:8080/",
          "height": 270
        },
        "id": "BQ6uyLGkP5Vh",
        "outputId": "aa86173f-7ba2-4a4f-9569-d32478f9898e"
      },
      "id": "BQ6uyLGkP5Vh",
      "execution_count": null,
      "outputs": [
        {
          "output_type": "execute_result",
          "data": {
            "text/plain": [
              "    Area  Perimeter  Major_Axis_Length  Minor_Axis_Length  Convex_Area  \\\n",
              "0  56276    888.242           326.1485           220.2388        56831   \n",
              "1  76631   1068.146           417.1932           234.2289        77280   \n",
              "2  71623   1082.987           435.8328           211.0457        72663   \n",
              "3  66458    992.051           381.5638           222.5322        67118   \n",
              "4  66107    998.146           383.8883           220.4545        67117   \n",
              "\n",
              "   Equiv_Diameter  Eccentricity  Solidity  Extent  Roundness  Aspect_Ration  \\\n",
              "0        267.6805        0.7376    0.9902  0.7453     0.8963         1.4809   \n",
              "1        312.3614        0.8275    0.9916  0.7151     0.8440         1.7811   \n",
              "2        301.9822        0.8749    0.9857  0.7400     0.7674         2.0651   \n",
              "3        290.8899        0.8123    0.9902  0.7396     0.8486         1.7146   \n",
              "4        290.1207        0.8187    0.9850  0.6752     0.8338         1.7413   \n",
              "\n",
              "   Compactness  Class  \n",
              "0       0.8207      0  \n",
              "1       0.7487      0  \n",
              "2       0.6929      0  \n",
              "3       0.7624      0  \n",
              "4       0.7557      0  "
            ],
            "text/html": [
              "\n",
              "  <div id=\"df-452e73d2-a8a0-4203-a971-08429f875037\">\n",
              "    <div class=\"colab-df-container\">\n",
              "      <div>\n",
              "<style scoped>\n",
              "    .dataframe tbody tr th:only-of-type {\n",
              "        vertical-align: middle;\n",
              "    }\n",
              "\n",
              "    .dataframe tbody tr th {\n",
              "        vertical-align: top;\n",
              "    }\n",
              "\n",
              "    .dataframe thead th {\n",
              "        text-align: right;\n",
              "    }\n",
              "</style>\n",
              "<table border=\"1\" class=\"dataframe\">\n",
              "  <thead>\n",
              "    <tr style=\"text-align: right;\">\n",
              "      <th></th>\n",
              "      <th>Area</th>\n",
              "      <th>Perimeter</th>\n",
              "      <th>Major_Axis_Length</th>\n",
              "      <th>Minor_Axis_Length</th>\n",
              "      <th>Convex_Area</th>\n",
              "      <th>Equiv_Diameter</th>\n",
              "      <th>Eccentricity</th>\n",
              "      <th>Solidity</th>\n",
              "      <th>Extent</th>\n",
              "      <th>Roundness</th>\n",
              "      <th>Aspect_Ration</th>\n",
              "      <th>Compactness</th>\n",
              "      <th>Class</th>\n",
              "    </tr>\n",
              "  </thead>\n",
              "  <tbody>\n",
              "    <tr>\n",
              "      <th>0</th>\n",
              "      <td>56276</td>\n",
              "      <td>888.242</td>\n",
              "      <td>326.1485</td>\n",
              "      <td>220.2388</td>\n",
              "      <td>56831</td>\n",
              "      <td>267.6805</td>\n",
              "      <td>0.7376</td>\n",
              "      <td>0.9902</td>\n",
              "      <td>0.7453</td>\n",
              "      <td>0.8963</td>\n",
              "      <td>1.4809</td>\n",
              "      <td>0.8207</td>\n",
              "      <td>0</td>\n",
              "    </tr>\n",
              "    <tr>\n",
              "      <th>1</th>\n",
              "      <td>76631</td>\n",
              "      <td>1068.146</td>\n",
              "      <td>417.1932</td>\n",
              "      <td>234.2289</td>\n",
              "      <td>77280</td>\n",
              "      <td>312.3614</td>\n",
              "      <td>0.8275</td>\n",
              "      <td>0.9916</td>\n",
              "      <td>0.7151</td>\n",
              "      <td>0.8440</td>\n",
              "      <td>1.7811</td>\n",
              "      <td>0.7487</td>\n",
              "      <td>0</td>\n",
              "    </tr>\n",
              "    <tr>\n",
              "      <th>2</th>\n",
              "      <td>71623</td>\n",
              "      <td>1082.987</td>\n",
              "      <td>435.8328</td>\n",
              "      <td>211.0457</td>\n",
              "      <td>72663</td>\n",
              "      <td>301.9822</td>\n",
              "      <td>0.8749</td>\n",
              "      <td>0.9857</td>\n",
              "      <td>0.7400</td>\n",
              "      <td>0.7674</td>\n",
              "      <td>2.0651</td>\n",
              "      <td>0.6929</td>\n",
              "      <td>0</td>\n",
              "    </tr>\n",
              "    <tr>\n",
              "      <th>3</th>\n",
              "      <td>66458</td>\n",
              "      <td>992.051</td>\n",
              "      <td>381.5638</td>\n",
              "      <td>222.5322</td>\n",
              "      <td>67118</td>\n",
              "      <td>290.8899</td>\n",
              "      <td>0.8123</td>\n",
              "      <td>0.9902</td>\n",
              "      <td>0.7396</td>\n",
              "      <td>0.8486</td>\n",
              "      <td>1.7146</td>\n",
              "      <td>0.7624</td>\n",
              "      <td>0</td>\n",
              "    </tr>\n",
              "    <tr>\n",
              "      <th>4</th>\n",
              "      <td>66107</td>\n",
              "      <td>998.146</td>\n",
              "      <td>383.8883</td>\n",
              "      <td>220.4545</td>\n",
              "      <td>67117</td>\n",
              "      <td>290.1207</td>\n",
              "      <td>0.8187</td>\n",
              "      <td>0.9850</td>\n",
              "      <td>0.6752</td>\n",
              "      <td>0.8338</td>\n",
              "      <td>1.7413</td>\n",
              "      <td>0.7557</td>\n",
              "      <td>0</td>\n",
              "    </tr>\n",
              "  </tbody>\n",
              "</table>\n",
              "</div>\n",
              "      <button class=\"colab-df-convert\" onclick=\"convertToInteractive('df-452e73d2-a8a0-4203-a971-08429f875037')\"\n",
              "              title=\"Convert this dataframe to an interactive table.\"\n",
              "              style=\"display:none;\">\n",
              "        \n",
              "  <svg xmlns=\"http://www.w3.org/2000/svg\" height=\"24px\"viewBox=\"0 0 24 24\"\n",
              "       width=\"24px\">\n",
              "    <path d=\"M0 0h24v24H0V0z\" fill=\"none\"/>\n",
              "    <path d=\"M18.56 5.44l.94 2.06.94-2.06 2.06-.94-2.06-.94-.94-2.06-.94 2.06-2.06.94zm-11 1L8.5 8.5l.94-2.06 2.06-.94-2.06-.94L8.5 2.5l-.94 2.06-2.06.94zm10 10l.94 2.06.94-2.06 2.06-.94-2.06-.94-.94-2.06-.94 2.06-2.06.94z\"/><path d=\"M17.41 7.96l-1.37-1.37c-.4-.4-.92-.59-1.43-.59-.52 0-1.04.2-1.43.59L10.3 9.45l-7.72 7.72c-.78.78-.78 2.05 0 2.83L4 21.41c.39.39.9.59 1.41.59.51 0 1.02-.2 1.41-.59l7.78-7.78 2.81-2.81c.8-.78.8-2.07 0-2.86zM5.41 20L4 18.59l7.72-7.72 1.47 1.35L5.41 20z\"/>\n",
              "  </svg>\n",
              "      </button>\n",
              "      \n",
              "  <style>\n",
              "    .colab-df-container {\n",
              "      display:flex;\n",
              "      flex-wrap:wrap;\n",
              "      gap: 12px;\n",
              "    }\n",
              "\n",
              "    .colab-df-convert {\n",
              "      background-color: #E8F0FE;\n",
              "      border: none;\n",
              "      border-radius: 50%;\n",
              "      cursor: pointer;\n",
              "      display: none;\n",
              "      fill: #1967D2;\n",
              "      height: 32px;\n",
              "      padding: 0 0 0 0;\n",
              "      width: 32px;\n",
              "    }\n",
              "\n",
              "    .colab-df-convert:hover {\n",
              "      background-color: #E2EBFA;\n",
              "      box-shadow: 0px 1px 2px rgba(60, 64, 67, 0.3), 0px 1px 3px 1px rgba(60, 64, 67, 0.15);\n",
              "      fill: #174EA6;\n",
              "    }\n",
              "\n",
              "    [theme=dark] .colab-df-convert {\n",
              "      background-color: #3B4455;\n",
              "      fill: #D2E3FC;\n",
              "    }\n",
              "\n",
              "    [theme=dark] .colab-df-convert:hover {\n",
              "      background-color: #434B5C;\n",
              "      box-shadow: 0px 1px 3px 1px rgba(0, 0, 0, 0.15);\n",
              "      filter: drop-shadow(0px 1px 2px rgba(0, 0, 0, 0.3));\n",
              "      fill: #FFFFFF;\n",
              "    }\n",
              "  </style>\n",
              "\n",
              "      <script>\n",
              "        const buttonEl =\n",
              "          document.querySelector('#df-452e73d2-a8a0-4203-a971-08429f875037 button.colab-df-convert');\n",
              "        buttonEl.style.display =\n",
              "          google.colab.kernel.accessAllowed ? 'block' : 'none';\n",
              "\n",
              "        async function convertToInteractive(key) {\n",
              "          const element = document.querySelector('#df-452e73d2-a8a0-4203-a971-08429f875037');\n",
              "          const dataTable =\n",
              "            await google.colab.kernel.invokeFunction('convertToInteractive',\n",
              "                                                     [key], {});\n",
              "          if (!dataTable) return;\n",
              "\n",
              "          const docLinkHtml = 'Like what you see? Visit the ' +\n",
              "            '<a target=\"_blank\" href=https://colab.research.google.com/notebooks/data_table.ipynb>data table notebook</a>'\n",
              "            + ' to learn more about interactive tables.';\n",
              "          element.innerHTML = '';\n",
              "          dataTable['output_type'] = 'display_data';\n",
              "          await google.colab.output.renderOutput(dataTable, element);\n",
              "          const docLink = document.createElement('div');\n",
              "          docLink.innerHTML = docLinkHtml;\n",
              "          element.appendChild(docLink);\n",
              "        }\n",
              "      </script>\n",
              "    </div>\n",
              "  </div>\n",
              "  "
            ]
          },
          "metadata": {},
          "execution_count": 74
        }
      ]
    },
    {
      "cell_type": "markdown",
      "id": "c1380064",
      "metadata": {
        "id": "c1380064"
      },
      "source": [
        "## Defining and Splitting the data into Training & Testing Sets"
      ]
    },
    {
      "cell_type": "code",
      "source": [
        "from numpy import asarray\n",
        "from sklearn.preprocessing import StandardScaler\n",
        "scaler = StandardScaler()\n",
        "# transform data\n",
        "X_scaled = scaler.fit_transform(features)\n",
        "# print(scaled_X)\n",
        "# y_scaled = scaler.fit_transform(target)\n",
        "# print(scaled_y)"
      ],
      "metadata": {
        "id": "3lJwlDTIGLvF"
      },
      "id": "3lJwlDTIGLvF",
      "execution_count": null,
      "outputs": []
    },
    {
      "cell_type": "code",
      "execution_count": null,
      "id": "15c38ec4",
      "metadata": {
        "id": "15c38ec4"
      },
      "outputs": [],
      "source": [
        "X_train, X_test, y_train, y_test = train_test_split(X_scaled, target, test_size = 0.33, random_state = 42)"
      ]
    },
    {
      "cell_type": "markdown",
      "source": [
        "#KNN"
      ],
      "metadata": {
        "id": "i3CKGJk5aFVr"
      },
      "id": "i3CKGJk5aFVr"
    },
    {
      "cell_type": "code",
      "source": [
        "from sklearn.model_selection import GridSearchCV\n",
        "import matplotlib.pyplot as plt\n",
        "from sklearn.neighbors import KNeighborsClassifier\n",
        "from sklearn.metrics import roc_auc_score\n",
        "import warnings\n",
        "from sklearn.exceptions import DataConversionWarning\n",
        "warnings.filterwarnings(action='ignore', category=DataConversionWarning)\n",
        "# from sklearn.exceptions import DataConversionWarning\n",
        "import math\n",
        "\n",
        "\n",
        "\n",
        "\n",
        "k_range = list(range(1, 31))\n",
        "param_grid = dict(n_neighbors=k_range)\n",
        "\n",
        "grid_search_knn = GridSearchCV(KNeighborsClassifier(), param_grid,cv=5,scoring='roc_auc',return_train_score=True ,verbose=2)\n",
        "\n",
        "# Model Fit\n",
        "start_time = time.time()\n",
        "\n",
        "grid_search_knn.fit(X_train, y_train)\n",
        "\n",
        "\n",
        "\n",
        "# KNN_model = KNeighborsClassifier(n_neighbors = k_neighbors).fit(X_train, y_train);\n",
        "elapsed_time = time.time() - start_time\n",
        "print(\"Training Time    : {:.2}\".format(elapsed_time))\n",
        "KNN_training_time = elapsed_time\n",
        "\n",
        "# Model Predict\n",
        "start_time = time.time()\n",
        "y_predicted = grid_search_knn.predict(X_test)\n",
        "elapsed_time = time.time() - start_time\n",
        "print(\"Testing Time  : {:.2}\".format(elapsed_time))\n",
        "KNN_testing_time = elapsed_time\n",
        "\n",
        "# Model Evaluation\n",
        "KNN_Accuracy         = accuracy_score(y_test, y_predicted)\n",
        "KNN_Recall           = recall_score(y_test, y_predicted, average = \"weighted\")\n",
        "KNN_Precision        = precision_score(y_test, y_predicted, average = \"weighted\")\n",
        "KNN_Score            = f1_score(y_test, y_predicted, average = 'micro')\n",
        "KNN_Confusion_Matrix = confusion_matrix(y_test, y_predicted)\n",
        "\n",
        "print(\"\\nConfusion Matrix : \")\n",
        "print(KNN_Confusion_Matrix)\n",
        "\n",
        "print(\"True Negative    : \", KNN_Confusion_Matrix[0,0])\n",
        "print(\"False Negative   : \", KNN_Confusion_Matrix[1,0])\n",
        "print(\"True Positive    : \", KNN_Confusion_Matrix[1,1])\n",
        "print(\"False Positive   : \", KNN_Confusion_Matrix[0,1])\n",
        "\n",
        "\n",
        "print(\"\\nAccuracy         : \", KNN_Accuracy)\n",
        "print(\"Recall           : \", KNN_Recall)\n",
        "print(\"Precision        : \", KNN_Precision)\n",
        "print(\"F1 Score         : \", KNN_Score)\n",
        "\n",
        "print(\"\\nTest-set R-square value : {:.2f}\".format(grid_search_knn.score(X_test, y_test)))\n",
        "print(\"\\n Plotting KNN ROC Curve:\")\n",
        "\n",
        "metrics.plot_roc_curve(grid_search_knn, X_test, y_test)\n",
        "plt.plot([0, 1], [0, 1], color='orange', linestyle='--')\n",
        "plt.xlabel('False Positive Rate')\n",
        "plt.ylabel('True Positive Rate')\n",
        "plt.show()\n",
        "\n"
      ],
      "metadata": {
        "colab": {
          "base_uri": "https://localhost:8080/",
          "height": 1000
        },
        "id": "G6tmtITsWhM7",
        "outputId": "eb51f1e7-b0bc-412c-f63c-c7e8659c6ae2"
      },
      "id": "G6tmtITsWhM7",
      "execution_count": null,
      "outputs": [
        {
          "output_type": "stream",
          "name": "stdout",
          "text": [
            "Fitting 5 folds for each of 30 candidates, totalling 150 fits\n",
            "[CV] END ......................................n_neighbors=1; total time=   0.0s\n",
            "[CV] END ......................................n_neighbors=1; total time=   0.0s\n",
            "[CV] END ......................................n_neighbors=1; total time=   0.0s\n",
            "[CV] END ......................................n_neighbors=1; total time=   0.0s\n",
            "[CV] END ......................................n_neighbors=1; total time=   0.0s\n",
            "[CV] END ......................................n_neighbors=2; total time=   0.0s\n",
            "[CV] END ......................................n_neighbors=2; total time=   0.0s\n",
            "[CV] END ......................................n_neighbors=2; total time=   0.0s\n",
            "[CV] END ......................................n_neighbors=2; total time=   0.0s\n",
            "[CV] END ......................................n_neighbors=2; total time=   0.0s\n",
            "[CV] END ......................................n_neighbors=3; total time=   0.0s\n",
            "[CV] END ......................................n_neighbors=3; total time=   0.0s\n",
            "[CV] END ......................................n_neighbors=3; total time=   0.0s\n",
            "[CV] END ......................................n_neighbors=3; total time=   0.0s\n",
            "[CV] END ......................................n_neighbors=3; total time=   0.0s\n",
            "[CV] END ......................................n_neighbors=4; total time=   0.0s\n",
            "[CV] END ......................................n_neighbors=4; total time=   0.0s\n",
            "[CV] END ......................................n_neighbors=4; total time=   0.0s\n",
            "[CV] END ......................................n_neighbors=4; total time=   0.0s\n",
            "[CV] END ......................................n_neighbors=4; total time=   0.0s\n",
            "[CV] END ......................................n_neighbors=5; total time=   0.0s\n",
            "[CV] END ......................................n_neighbors=5; total time=   0.0s\n",
            "[CV] END ......................................n_neighbors=5; total time=   0.0s\n",
            "[CV] END ......................................n_neighbors=5; total time=   0.0s\n",
            "[CV] END ......................................n_neighbors=5; total time=   0.0s\n",
            "[CV] END ......................................n_neighbors=6; total time=   0.0s\n",
            "[CV] END ......................................n_neighbors=6; total time=   0.0s\n",
            "[CV] END ......................................n_neighbors=6; total time=   0.0s\n",
            "[CV] END ......................................n_neighbors=6; total time=   0.0s\n",
            "[CV] END ......................................n_neighbors=6; total time=   0.0s\n",
            "[CV] END ......................................n_neighbors=7; total time=   0.0s\n",
            "[CV] END ......................................n_neighbors=7; total time=   0.0s\n",
            "[CV] END ......................................n_neighbors=7; total time=   0.0s\n",
            "[CV] END ......................................n_neighbors=7; total time=   0.0s\n",
            "[CV] END ......................................n_neighbors=7; total time=   0.0s\n",
            "[CV] END ......................................n_neighbors=8; total time=   0.0s\n",
            "[CV] END ......................................n_neighbors=8; total time=   0.0s\n",
            "[CV] END ......................................n_neighbors=8; total time=   0.0s\n",
            "[CV] END ......................................n_neighbors=8; total time=   0.0s\n",
            "[CV] END ......................................n_neighbors=8; total time=   0.0s\n",
            "[CV] END ......................................n_neighbors=9; total time=   0.0s\n",
            "[CV] END ......................................n_neighbors=9; total time=   0.0s\n",
            "[CV] END ......................................n_neighbors=9; total time=   0.0s\n",
            "[CV] END ......................................n_neighbors=9; total time=   0.0s\n",
            "[CV] END ......................................n_neighbors=9; total time=   0.0s\n",
            "[CV] END .....................................n_neighbors=10; total time=   0.0s\n",
            "[CV] END .....................................n_neighbors=10; total time=   0.0s\n",
            "[CV] END .....................................n_neighbors=10; total time=   0.0s\n",
            "[CV] END .....................................n_neighbors=10; total time=   0.0s\n",
            "[CV] END .....................................n_neighbors=10; total time=   0.0s\n",
            "[CV] END .....................................n_neighbors=11; total time=   0.0s\n",
            "[CV] END .....................................n_neighbors=11; total time=   0.0s\n",
            "[CV] END .....................................n_neighbors=11; total time=   0.0s\n",
            "[CV] END .....................................n_neighbors=11; total time=   0.0s\n",
            "[CV] END .....................................n_neighbors=11; total time=   0.0s\n",
            "[CV] END .....................................n_neighbors=12; total time=   0.0s\n",
            "[CV] END .....................................n_neighbors=12; total time=   0.0s\n",
            "[CV] END .....................................n_neighbors=12; total time=   0.0s\n",
            "[CV] END .....................................n_neighbors=12; total time=   0.0s\n",
            "[CV] END .....................................n_neighbors=12; total time=   0.0s\n",
            "[CV] END .....................................n_neighbors=13; total time=   0.0s\n",
            "[CV] END .....................................n_neighbors=13; total time=   0.0s\n",
            "[CV] END .....................................n_neighbors=13; total time=   0.0s\n",
            "[CV] END .....................................n_neighbors=13; total time=   0.0s\n",
            "[CV] END .....................................n_neighbors=13; total time=   0.0s\n",
            "[CV] END .....................................n_neighbors=14; total time=   0.0s\n",
            "[CV] END .....................................n_neighbors=14; total time=   0.0s\n",
            "[CV] END .....................................n_neighbors=14; total time=   0.0s\n",
            "[CV] END .....................................n_neighbors=14; total time=   0.0s\n",
            "[CV] END .....................................n_neighbors=14; total time=   0.0s\n",
            "[CV] END .....................................n_neighbors=15; total time=   0.0s\n",
            "[CV] END .....................................n_neighbors=15; total time=   0.0s\n",
            "[CV] END .....................................n_neighbors=15; total time=   0.0s\n",
            "[CV] END .....................................n_neighbors=15; total time=   0.0s\n",
            "[CV] END .....................................n_neighbors=15; total time=   0.0s\n",
            "[CV] END .....................................n_neighbors=16; total time=   0.0s\n",
            "[CV] END .....................................n_neighbors=16; total time=   0.0s\n",
            "[CV] END .....................................n_neighbors=16; total time=   0.0s\n",
            "[CV] END .....................................n_neighbors=16; total time=   0.0s\n",
            "[CV] END .....................................n_neighbors=16; total time=   0.0s\n",
            "[CV] END .....................................n_neighbors=17; total time=   0.0s\n",
            "[CV] END .....................................n_neighbors=17; total time=   0.0s\n",
            "[CV] END .....................................n_neighbors=17; total time=   0.0s\n",
            "[CV] END .....................................n_neighbors=17; total time=   0.0s\n",
            "[CV] END .....................................n_neighbors=17; total time=   0.0s\n",
            "[CV] END .....................................n_neighbors=18; total time=   0.0s\n",
            "[CV] END .....................................n_neighbors=18; total time=   0.0s\n",
            "[CV] END .....................................n_neighbors=18; total time=   0.0s\n",
            "[CV] END .....................................n_neighbors=18; total time=   0.0s\n",
            "[CV] END .....................................n_neighbors=18; total time=   0.0s\n",
            "[CV] END .....................................n_neighbors=19; total time=   0.0s\n",
            "[CV] END .....................................n_neighbors=19; total time=   0.0s\n",
            "[CV] END .....................................n_neighbors=19; total time=   0.0s\n",
            "[CV] END .....................................n_neighbors=19; total time=   0.0s\n",
            "[CV] END .....................................n_neighbors=19; total time=   0.0s\n",
            "[CV] END .....................................n_neighbors=20; total time=   0.0s\n",
            "[CV] END .....................................n_neighbors=20; total time=   0.0s\n",
            "[CV] END .....................................n_neighbors=20; total time=   0.0s\n",
            "[CV] END .....................................n_neighbors=20; total time=   0.0s\n",
            "[CV] END .....................................n_neighbors=20; total time=   0.0s\n",
            "[CV] END .....................................n_neighbors=21; total time=   0.0s\n",
            "[CV] END .....................................n_neighbors=21; total time=   0.0s\n",
            "[CV] END .....................................n_neighbors=21; total time=   0.0s\n",
            "[CV] END .....................................n_neighbors=21; total time=   0.0s\n",
            "[CV] END .....................................n_neighbors=21; total time=   0.0s\n",
            "[CV] END .....................................n_neighbors=22; total time=   0.0s\n",
            "[CV] END .....................................n_neighbors=22; total time=   0.0s\n",
            "[CV] END .....................................n_neighbors=22; total time=   0.0s\n",
            "[CV] END .....................................n_neighbors=22; total time=   0.0s\n",
            "[CV] END .....................................n_neighbors=22; total time=   0.0s\n",
            "[CV] END .....................................n_neighbors=23; total time=   0.0s\n",
            "[CV] END .....................................n_neighbors=23; total time=   0.0s\n",
            "[CV] END .....................................n_neighbors=23; total time=   0.0s\n",
            "[CV] END .....................................n_neighbors=23; total time=   0.0s\n",
            "[CV] END .....................................n_neighbors=23; total time=   0.0s\n",
            "[CV] END .....................................n_neighbors=24; total time=   0.0s\n",
            "[CV] END .....................................n_neighbors=24; total time=   0.0s\n",
            "[CV] END .....................................n_neighbors=24; total time=   0.0s\n",
            "[CV] END .....................................n_neighbors=24; total time=   0.0s\n",
            "[CV] END .....................................n_neighbors=24; total time=   0.0s\n",
            "[CV] END .....................................n_neighbors=25; total time=   0.0s\n",
            "[CV] END .....................................n_neighbors=25; total time=   0.0s\n",
            "[CV] END .....................................n_neighbors=25; total time=   0.0s\n",
            "[CV] END .....................................n_neighbors=25; total time=   0.0s\n",
            "[CV] END .....................................n_neighbors=25; total time=   0.0s\n",
            "[CV] END .....................................n_neighbors=26; total time=   0.0s\n",
            "[CV] END .....................................n_neighbors=26; total time=   0.0s\n",
            "[CV] END .....................................n_neighbors=26; total time=   0.0s\n",
            "[CV] END .....................................n_neighbors=26; total time=   0.0s\n",
            "[CV] END .....................................n_neighbors=26; total time=   0.0s\n",
            "[CV] END .....................................n_neighbors=27; total time=   0.0s\n",
            "[CV] END .....................................n_neighbors=27; total time=   0.0s\n",
            "[CV] END .....................................n_neighbors=27; total time=   0.0s\n",
            "[CV] END .....................................n_neighbors=27; total time=   0.0s\n",
            "[CV] END .....................................n_neighbors=27; total time=   0.0s\n",
            "[CV] END .....................................n_neighbors=28; total time=   0.0s\n",
            "[CV] END .....................................n_neighbors=28; total time=   0.0s\n",
            "[CV] END .....................................n_neighbors=28; total time=   0.0s\n",
            "[CV] END .....................................n_neighbors=28; total time=   0.0s\n",
            "[CV] END .....................................n_neighbors=28; total time=   0.0s\n",
            "[CV] END .....................................n_neighbors=29; total time=   0.0s\n",
            "[CV] END .....................................n_neighbors=29; total time=   0.0s\n",
            "[CV] END .....................................n_neighbors=29; total time=   0.0s\n",
            "[CV] END .....................................n_neighbors=29; total time=   0.0s\n",
            "[CV] END .....................................n_neighbors=29; total time=   0.0s\n",
            "[CV] END .....................................n_neighbors=30; total time=   0.0s\n",
            "[CV] END .....................................n_neighbors=30; total time=   0.0s\n",
            "[CV] END .....................................n_neighbors=30; total time=   0.0s\n",
            "[CV] END .....................................n_neighbors=30; total time=   0.0s\n",
            "[CV] END .....................................n_neighbors=30; total time=   0.0s\n",
            "Training Time    : 6.0\n",
            "Testing Time  : 0.04\n",
            "\n",
            "Confusion Matrix : \n",
            "[[394  37]\n",
            " [ 73 321]]\n",
            "True Negative    :  394\n",
            "False Negative   :  73\n",
            "True Positive    :  321\n",
            "False Positive   :  37\n",
            "\n",
            "Accuracy         :  0.8666666666666667\n",
            "Recall           :  0.8666666666666667\n",
            "Precision        :  0.8689778649727449\n",
            "F1 Score         :  0.8666666666666667\n",
            "\n",
            "Test-set R-square value : 0.94\n",
            "\n",
            " Plotting KNN ROC Curve:\n"
          ]
        },
        {
          "output_type": "display_data",
          "data": {
            "text/plain": [
              "<Figure size 432x288 with 1 Axes>"
            ],
            "image/png": "[encoded data removed]"
          },
          "metadata": {
            "needs_background": "light"
          }
        }
      ]
    },
    {
      "cell_type": "code",
      "source": [
        "train_auc= grid_search_knn.cv_results_['mean_train_score']\n",
        "train_auc_std= grid_search_knn.cv_results_['std_train_score']\n",
        "cv_auc = grid_search_knn.cv_results_['mean_test_score'] \n",
        "cv_auc_std= grid_search_knn.cv_results_['std_test_score']"
      ],
      "metadata": {
        "id": "iQ0TFIbnW1CA"
      },
      "id": "iQ0TFIbnW1CA",
      "execution_count": null,
      "outputs": []
    },
    {
      "cell_type": "code",
      "source": [
        "from tqdm import tqdm\n",
        "knn = list(range(1, 31))\n",
        "log_knn=[]\n",
        "for val in tqdm(knn):\n",
        "    val1 = math.log(val)\n",
        "    log_knn.append(val1)\n",
        "\n",
        "plt.figure(figsize=(20,10))\n",
        "plt.plot(log_knn, train_auc, label='Train AUC')\n",
        "# this code is copied from here: https://stackoverflow.com/a/48803361/4084039\n",
        "plt.gca().fill_between(log_knn, train_auc - train_auc_std,train_auc + train_auc_std,alpha=0.2,color='darkblue')\n",
        "\n",
        "plt.plot(log_knn, cv_auc, label='CV AUC')\n",
        "# this code is copied from here: https://stackoverflow.com/a/48803361/4084039\n",
        "plt.gca().fill_between(log_knn  , cv_auc - cv_auc_std,cv_auc + cv_auc_std,alpha=0.2,color='darkorange')\n",
        "\n",
        "plt.scatter(log_knn, train_auc, label='Train AUC points')\n",
        "plt.scatter(log_knn, cv_auc, label='CV AUC points')\n",
        "\n",
        "\n",
        "plt.legend()\n",
        "plt.xlabel(\"alpha: hyperparameter\")\n",
        "plt.ylabel(\"AUC\")\n",
        "plt.title(\"Hyper parameter Vs AUC plot\")\n",
        "plt.grid(color='black', linestyle='-', linewidth=0.6)\n",
        "plt.show()\n"
      ],
      "metadata": {
        "colab": {
          "base_uri": "https://localhost:8080/",
          "height": 639
        },
        "id": "0PvmG2pIW-ru",
        "outputId": "d6480fc6-9ea3-4f78-b027-4a799f46e167"
      },
      "id": "0PvmG2pIW-ru",
      "execution_count": null,
      "outputs": [
        {
          "output_type": "stream",
          "name": "stderr",
          "text": [
            "100%|██████████| 30/30 [00:00<00:00, 176478.43it/s]\n"
          ]
        },
        {
          "output_type": "display_data",
          "data": {
            "text/plain": [
              "<Figure size 1440x720 with 1 Axes>"
            ],
            "image/png": "[encoded data removed]"
          },
          "metadata": {
            "needs_background": "light"
          }
        }
      ]
    },
    {
      "cell_type": "code",
      "source": [
        "print('Best Score seen :',grid_search_knn.best_score_)\n",
        "print('Best gamma value in whole of parameter list :',grid_search_knn.best_params_)\n",
        "print(grid_search_knn.best_index_)"
      ],
      "metadata": {
        "colab": {
          "base_uri": "https://localhost:8080/"
        },
        "id": "NdeakOdTXdG_",
        "outputId": "43f717e4-308d-4d51-ef2a-57a180e5fc9f"
      },
      "id": "NdeakOdTXdG_",
      "execution_count": null,
      "outputs": [
        {
          "output_type": "stream",
          "name": "stdout",
          "text": [
            "Best Score seen : 0.94553464696529\n",
            "Best gamma value in whole of parameter list : {'n_neighbors': 27}\n",
            "26\n"
          ]
        }
      ]
    },
    {
      "cell_type": "code",
      "source": [
        "grid_search_knn.best_params_['n_neighbors']"
      ],
      "metadata": {
        "colab": {
          "base_uri": "https://localhost:8080/"
        },
        "id": "_Afi_em6Xt0x",
        "outputId": "ec750aa8-ecf3-4a80-cf98-395e591755b2"
      },
      "id": "_Afi_em6Xt0x",
      "execution_count": null,
      "outputs": [
        {
          "output_type": "execute_result",
          "data": {
            "text/plain": [
              "27"
            ]
          },
          "metadata": {},
          "execution_count": 81
        }
      ]
    },
    {
      "cell_type": "code",
      "source": [
        "from sklearn.metrics import roc_curve, auc\n",
        "\n",
        "test_knn = KNeighborsClassifier(n_neighbors = grid_search_knn.best_params_['n_neighbors'])\n",
        "# generate a no skill prediction (majority class)\n",
        "ns_probs = [0 for _ in range(len(y_test))]\n",
        "\n",
        "test_knn.fit(X_train, y_train)\n",
        "\n",
        "# predict probabilities\n",
        "y_train_pred = test_knn.predict_proba(X_train)\n",
        "y_test_pred = test_knn.predict_proba(X_test)\n",
        "# keep probabilities for the positive outcome only\n",
        "y_train_pred = y_train_pred[:, 1]\n",
        "y_test_pred = y_test_pred[:, 1]\n",
        "\n",
        "\n",
        "train_fpr, train_tpr, tr_thresholds = roc_curve(y_train, y_train_pred)\n",
        "test_fpr, test_tpr, te_thresholds = roc_curve(y_test, y_test_pred)\n",
        "plt.figure(figsize=(10,10))\n",
        "plt.grid()\n",
        "\n",
        "plt.plot(train_fpr, train_tpr, label=\" AUC TRAIN =\"+str(auc(train_fpr, train_tpr)))\n",
        "plt.plot(test_fpr, test_tpr, label=\" AUC TEST =\"+str(auc(test_fpr, test_tpr)))\n",
        "plt.plot([0,1],[0,1],'g--')\n",
        "plt.legend()\n",
        "plt.xlabel(\"False Positive Rate\")\n",
        "plt.ylabel(\"True Positive Rate\")\n",
        "plt.title(\"AUC(ROC curve)\")\n",
        "plt.grid(color='black', linestyle='-', linewidth=0.5)\n",
        "plt.show()\n",
        "\n"
      ],
      "metadata": {
        "colab": {
          "base_uri": "https://localhost:8080/",
          "height": 621
        },
        "id": "BbBm-DLJXzBz",
        "outputId": "bf827d3e-4a55-4af8-f065-3dc86e5d2fd7"
      },
      "id": "BbBm-DLJXzBz",
      "execution_count": null,
      "outputs": [
        {
          "output_type": "display_data",
          "data": {
            "text/plain": [
              "<Figure size 720x720 with 1 Axes>"
            ],
            "image/png": "[encoded data removed]"
          },
          "metadata": {
            "needs_background": "light"
          }
        }
      ]
    },
    {
      "cell_type": "markdown",
      "source": [
        "#SVM"
      ],
      "metadata": {
        "id": "MMxRsW5GT9io"
      },
      "id": "MMxRsW5GT9io"
    },
    {
      "cell_type": "code",
      "source": [
        "from sklearn.model_selection import GridSearchCV\n",
        "import matplotlib.pyplot as plt\n",
        "from sklearn.naive_bayes import GaussianNB\n",
        "from sklearn.metrics import roc_auc_score\n",
        "from sklearn.linear_model import SGDClassifier\n",
        "from sklearn.svm import SVC\n",
        "import warnings\n",
        "from sklearn.exceptions import DataConversionWarning\n",
        "warnings.filterwarnings(action='ignore', category=DataConversionWarning)\n",
        "# from sklearn.exceptions import DataConversionWarning\n",
        "import math\n",
        "\n",
        "param_grid = {\"gamma\": [0.01,0.1, 1.0, 10, 100,1000]}\n",
        "\n",
        "# Cs = [0.0001,0.001, 0.01, 0.1, 1, 10]\n",
        "# tuned_parameters = [{'alpha': Cs}]\n",
        "\n",
        "grid_search = GridSearchCV(SVC(), param_grid,cv=5,scoring='roc_auc',return_train_score=True ,verbose=2)\n",
        "\n",
        "# Model Fit \n",
        "start_time = time.time()\n",
        "grid_search.fit(X_train, y_train)\n",
        "elapsed_time = time.time() - start_time\n",
        "print(\"Training Time    : {:.2}\".format(elapsed_time))\n",
        "SVM_training_time = elapsed_time\n",
        "\n",
        "# Model Predict\n",
        "start_time = time.time()\n",
        "y_predicted = grid_search.predict(X_test)\n",
        "elapsed_time = time.time() - start_time\n",
        "print(\"Testing Time  : {:.2}\".format(elapsed_time))\n",
        "SVM_testing_time = elapsed_time\n",
        "\n",
        "# Model Evaluation\n",
        "SVM_Accuracy         = accuracy_score(y_test, y_predicted)\n",
        "SVM_Recall           = recall_score(y_test, y_predicted, average = \"weighted\")\n",
        "SVM_Precision        = precision_score(y_test, y_predicted, average = \"weighted\")\n",
        "SVM_Score            = f1_score(y_test, y_predicted, average = 'micro')\n",
        "SVM_Confusion_Matrix = confusion_matrix(y_test, y_predicted)\n",
        "\n",
        "print(\"\\nConfusion Matrix : \")\n",
        "print(SVM_Confusion_Matrix)\n",
        "\n",
        "print(\"True Negative    : \", SVM_Confusion_Matrix[0,0])\n",
        "print(\"False Negative   : \", SVM_Confusion_Matrix[1,0])\n",
        "print(\"True Positive    : \", SVM_Confusion_Matrix[1,1])\n",
        "print(\"False Positive   : \", SVM_Confusion_Matrix[0,1])\n",
        "\n",
        "\n",
        "print(\"\\nAccuracy         : \", SVM_Accuracy)\n",
        "print(\"Recall           : \", SVM_Recall)\n",
        "print(\"Precision        : \", SVM_Precision)\n",
        "print(\"F1 Score         : \", SVM_Score)\n",
        "\n",
        "print(\"\\nTest-set R-square value : {:.2f}\".format(grid_search.score(X_test, y_test)))\n",
        "print(\"\\n Plotting SVM ROC Curve:\")\n",
        "\n",
        "metrics.plot_roc_curve(grid_search, X_test, y_test)\n",
        "plt.plot([0, 1], [0, 1], color='orange', linestyle='--')\n",
        "plt.xlabel('False Positive Rate')\n",
        "plt.ylabel('True Positive Rate')\n",
        "plt.show()\n",
        "\n"
      ],
      "metadata": {
        "colab": {
          "base_uri": "https://localhost:8080/",
          "height": 1000
        },
        "id": "YnwViGw2IzCf",
        "outputId": "7bdc4fcb-09e7-4a9f-b4ea-02d4d0e375d9"
      },
      "id": "YnwViGw2IzCf",
      "execution_count": null,
      "outputs": [
        {
          "output_type": "stream",
          "name": "stdout",
          "text": [
            "Fitting 5 folds for each of 6 candidates, totalling 30 fits\n",
            "[CV] END .........................................gamma=0.01; total time=   0.1s\n",
            "[CV] END .........................................gamma=0.01; total time=   0.1s\n",
            "[CV] END .........................................gamma=0.01; total time=   0.1s\n",
            "[CV] END .........................................gamma=0.01; total time=   0.1s\n",
            "[CV] END .........................................gamma=0.01; total time=   0.1s\n",
            "[CV] END ..........................................gamma=0.1; total time=   0.1s\n",
            "[CV] END ..........................................gamma=0.1; total time=   0.1s\n",
            "[CV] END ..........................................gamma=0.1; total time=   0.0s\n",
            "[CV] END ..........................................gamma=0.1; total time=   0.1s\n",
            "[CV] END ..........................................gamma=0.1; total time=   0.0s\n",
            "[CV] END ..........................................gamma=1.0; total time=   0.1s\n",
            "[CV] END ..........................................gamma=1.0; total time=   0.1s\n",
            "[CV] END ..........................................gamma=1.0; total time=   0.1s\n",
            "[CV] END ..........................................gamma=1.0; total time=   0.1s\n",
            "[CV] END ..........................................gamma=1.0; total time=   0.1s\n",
            "[CV] END ...........................................gamma=10; total time=   0.2s\n",
            "[CV] END ...........................................gamma=10; total time=   0.2s\n",
            "[CV] END ...........................................gamma=10; total time=   0.2s\n",
            "[CV] END ...........................................gamma=10; total time=   0.2s\n",
            "[CV] END ...........................................gamma=10; total time=   0.2s\n",
            "[CV] END ..........................................gamma=100; total time=   0.2s\n",
            "[CV] END ..........................................gamma=100; total time=   0.1s\n",
            "[CV] END ..........................................gamma=100; total time=   0.1s\n",
            "[CV] END ..........................................gamma=100; total time=   0.1s\n",
            "[CV] END ..........................................gamma=100; total time=   0.2s\n",
            "[CV] END .........................................gamma=1000; total time=   0.1s\n",
            "[CV] END .........................................gamma=1000; total time=   0.1s\n",
            "[CV] END .........................................gamma=1000; total time=   0.1s\n",
            "[CV] END .........................................gamma=1000; total time=   0.1s\n",
            "[CV] END .........................................gamma=1000; total time=   0.1s\n",
            "Training Time    : 6.2\n",
            "Testing Time  : 0.032\n",
            "\n",
            "Confusion Matrix : \n",
            "[[390  41]\n",
            " [ 66 328]]\n",
            "True Negative    :  390\n",
            "False Negative   :  66\n",
            "True Positive    :  328\n",
            "False Positive   :  41\n",
            "\n",
            "Accuracy         :  0.8703030303030304\n",
            "Recall           :  0.8703030303030304\n",
            "Precision        :  0.8713219918483077\n",
            "F1 Score         :  0.8703030303030304\n",
            "\n",
            "Test-set R-square value : 0.94\n",
            "\n",
            " Plotting SVM ROC Curve:\n"
          ]
        },
        {
          "output_type": "display_data",
          "data": {
            "text/plain": [
              "<Figure size 432x288 with 1 Axes>"
            ],
            "image/png": "[encoded data removed]"
          },
          "metadata": {
            "needs_background": "light"
          }
        }
      ]
    },
    {
      "cell_type": "code",
      "source": [
        "train_auc= grid_search.cv_results_['mean_train_score']\n",
        "train_auc_std= grid_search.cv_results_['std_train_score']\n",
        "cv_auc = grid_search.cv_results_['mean_test_score'] \n",
        "cv_auc_std= grid_search.cv_results_['std_test_score']"
      ],
      "metadata": {
        "id": "quk1SS3mJHTz"
      },
      "id": "quk1SS3mJHTz",
      "execution_count": null,
      "outputs": []
    },
    {
      "cell_type": "code",
      "source": [
        "from tqdm import tqdm\n",
        "# alpha = [0.00001,0.0005, 0.0001,0.005,0.001,0.05,0.01,0.1,0.5,1,5,10,50,100]\n",
        "gamma = [0.01,0.1, 1.0, 10, 100,1000]\n",
        "\n",
        "log_gamma=[]\n",
        "for val in tqdm(gamma):\n",
        "    val1 = math.log(val)\n",
        "    log_gamma.append(val1)\n",
        "\n",
        "plt.figure(figsize=(20,10))\n",
        "plt.plot(log_gamma, train_auc, label='Train AUC')\n",
        "# this code is copied from here: https://stackoverflow.com/a/48803361/4084039\n",
        "plt.gca().fill_between(log_gamma, train_auc - train_auc_std,train_auc + train_auc_std,alpha=0.2,color='darkblue')\n",
        "\n",
        "plt.plot(log_gamma, cv_auc, label='CV AUC')\n",
        "# this code is copied from here: https://stackoverflow.com/a/48803361/4084039\n",
        "plt.gca().fill_between(log_gamma  , cv_auc - cv_auc_std,cv_auc + cv_auc_std,alpha=0.2,color='darkorange')\n",
        "\n",
        "plt.scatter(log_gamma, train_auc, label='Train AUC points')\n",
        "plt.scatter(log_gamma, cv_auc, label='CV AUC points')\n",
        "\n",
        "\n",
        "plt.legend()\n",
        "plt.xlabel(\"alpha: hyperparameter\")\n",
        "plt.ylabel(\"AUC\")\n",
        "plt.title(\"Hyper parameter Vs AUC plot\")\n",
        "plt.grid(color='black', linestyle='-', linewidth=0.6)\n",
        "plt.show()\n"
      ],
      "metadata": {
        "colab": {
          "base_uri": "https://localhost:8080/",
          "height": 639
        },
        "id": "S8qypu1lJKij",
        "outputId": "678c4498-b6bc-4a17-ebf8-4452a1af464f"
      },
      "id": "S8qypu1lJKij",
      "execution_count": null,
      "outputs": [
        {
          "output_type": "stream",
          "name": "stderr",
          "text": [
            "100%|██████████| 6/6 [00:00<00:00, 46517.23it/s]\n"
          ]
        },
        {
          "output_type": "display_data",
          "data": {
            "text/plain": [
              "<Figure size 1440x720 with 1 Axes>"
            ],
            "image/png": "[encoded data removed]"
          },
          "metadata": {
            "needs_background": "light"
          }
        }
      ]
    },
    {
      "cell_type": "code",
      "source": [
        "print('Best Score seen :',grid_search.best_score_)\n",
        "print('Best gamma value in whole of parameter list :',grid_search.best_params_)\n",
        "print(grid_search.best_index_)"
      ],
      "metadata": {
        "colab": {
          "base_uri": "https://localhost:8080/"
        },
        "id": "Yla3QyYjJMqk",
        "outputId": "0dc53d1b-40d9-403f-aacd-e62209211fbe"
      },
      "id": "Yla3QyYjJMqk",
      "execution_count": null,
      "outputs": [
        {
          "output_type": "stream",
          "name": "stdout",
          "text": [
            "Best Score seen : 0.9487155098170399\n",
            "Best gamma value in whole of parameter list : {'gamma': 0.01}\n",
            "0\n"
          ]
        }
      ]
    },
    {
      "cell_type": "code",
      "source": [
        "grid_search.best_params_['gamma']"
      ],
      "metadata": {
        "colab": {
          "base_uri": "https://localhost:8080/"
        },
        "id": "jcQPb6byJUFO",
        "outputId": "0ce1fbb0-e30d-4a62-884c-9c33b9bf51a1"
      },
      "id": "jcQPb6byJUFO",
      "execution_count": null,
      "outputs": [
        {
          "output_type": "execute_result",
          "data": {
            "text/plain": [
              "0.01"
            ]
          },
          "metadata": {},
          "execution_count": 87
        }
      ]
    },
    {
      "cell_type": "code",
      "source": [
        "def pred(pipe,data):\n",
        "  y_pred=[]\n",
        "  y_pred=grid_search.predict_proba(data)[:,1]\n",
        "  return y_pred"
      ],
      "metadata": {
        "id": "eZl5OjDjMMbE"
      },
      "id": "eZl5OjDjMMbE",
      "execution_count": null,
      "outputs": []
    },
    {
      "cell_type": "code",
      "source": [
        "# https://scikit-learn.org/stable/modules/generated/sklearn.metrics.roc_curve.html#sklearn.metrics.roc_curve\n",
        "from sklearn.metrics import roc_curve, auc\n",
        "\n",
        "test_svc = SVC(gamma = grid_search.best_params_['gamma'])\n",
        "\n",
        "test_svc.fit(X_train, y_train)\n",
        "# roc_auc_score(y_true, y_score) the 2nd parameter should be probability estimates of the positive class\n",
        "# not the predicted outputs\n",
        "\n",
        "y_train_pred = test_svc.decision_function(X_train)    \n",
        "y_test_pred = test_svc.decision_function(X_test)\n",
        "\n",
        "\n",
        "train_fpr, train_tpr, tr_thresholds = roc_curve(y_train, y_train_pred)\n",
        "test_fpr, test_tpr, te_thresholds = roc_curve(y_test, y_test_pred)\n",
        "plt.figure(figsize=(10,10))\n",
        "plt.grid()\n",
        "\n",
        "plt.plot(train_fpr, train_tpr, label=\" AUC TRAIN =\"+str(auc(train_fpr, train_tpr)))\n",
        "plt.plot(test_fpr, test_tpr, label=\" AUC TEST =\"+str(auc(test_fpr, test_tpr)))\n",
        "plt.plot([0,1],[0,1],'g--')\n",
        "plt.legend()\n",
        "plt.xlabel(\"False Positive Rate\")\n",
        "plt.ylabel(\"True Positive Rate\")\n",
        "plt.title(\"AUC(ROC curve)\")\n",
        "plt.grid(color='black', linestyle='-', linewidth=0.5)\n",
        "plt.show()\n"
      ],
      "metadata": {
        "colab": {
          "base_uri": "https://localhost:8080/",
          "height": 621
        },
        "id": "84fC74DOMNYj",
        "outputId": "7e5e6425-0946-4453-e58d-60c7282d35a3"
      },
      "id": "84fC74DOMNYj",
      "execution_count": null,
      "outputs": [
        {
          "output_type": "display_data",
          "data": {
            "text/plain": [
              "<Figure size 720x720 with 1 Axes>"
            ],
            "image/png": "[encoded data removed]"
          },
          "metadata": {
            "needs_background": "light"
          }
        }
      ]
    },
    {
      "cell_type": "markdown",
      "source": [
        "#Naive Bayes"
      ],
      "metadata": {
        "id": "8awgHgAKT4Be"
      },
      "id": "8awgHgAKT4Be"
    },
    {
      "cell_type": "code",
      "source": [
        "from sklearn.model_selection import GridSearchCV\n",
        "import matplotlib.pyplot as plt\n",
        "from sklearn.naive_bayes import GaussianNB\n",
        "from sklearn.metrics import roc_auc_score\n",
        "from sklearn.linear_model import SGDClassifier\n",
        "from sklearn.svm import SVC\n",
        "import warnings\n",
        "from sklearn.exceptions import DataConversionWarning\n",
        "warnings.filterwarnings(action='ignore', category=DataConversionWarning)\n",
        "# from sklearn.exceptions import DataConversionWarning\n",
        "import math\n",
        "\n",
        "# param_grid = {\"gamma\": [0.01,0.1, 1.0, 10, 100,1000]}\n",
        "params_NB = {'var_smoothing': np.logspace(0,-9, num=100)}\n",
        "\n",
        "grid_search_nb = GridSearchCV(GaussianNB(), param_grid=params_NB,cv=5,scoring='roc_auc',return_train_score=True ,verbose=2)\n",
        "\n",
        "# Model Fit \n",
        "\n",
        "start_time = time.time()\n",
        "grid_search_nb.fit(X_train, y_train)\n",
        "elapsed_time = time.time() - start_time\n",
        "print(\"Training Time    : {:.2}\".format(elapsed_time))\n",
        "NB_training_time = elapsed_time\n",
        "\n",
        "# Model Predict\n",
        "start_time = time.time()\n",
        "y_predicted = grid_search_nb.predict(X_test)\n",
        "elapsed_time = time.time() - start_time\n",
        "print(\"Testing Time  : {:.2}\".format(elapsed_time))\n",
        "NB_testing_time = elapsed_time\n",
        "\n",
        "# Model Evaluation\n",
        "NB_Accuracy         = accuracy_score(y_test, y_predicted)\n",
        "NB_Recall           = recall_score(y_test, y_predicted, average = \"weighted\")\n",
        "NB_Precision        = precision_score(y_test, y_predicted, average = \"weighted\")\n",
        "NB_Score            = f1_score(y_test, y_predicted, average = 'micro')\n",
        "NB_Confusion_Matrix = confusion_matrix(y_test, y_predicted)\n",
        "\n",
        "print(\"\\nConfusion Matrix : \")\n",
        "print(NB_Confusion_Matrix)\n",
        "\n",
        "print(\"True Negative    : \", NB_Confusion_Matrix[0,0])\n",
        "print(\"False Negative   : \", NB_Confusion_Matrix[1,0])\n",
        "print(\"True Positive    : \", NB_Confusion_Matrix[1,1])\n",
        "print(\"False Positive   : \", NB_Confusion_Matrix[0,1])\n",
        "\n",
        "\n",
        "print(\"\\nAccuracy         : \", NB_Accuracy)\n",
        "print(\"Recall           : \", NB_Recall)\n",
        "print(\"Precision        : \", NB_Precision)\n",
        "print(\"F1 Score         : \", NB_Score)\n",
        "\n",
        "print(\"\\nTest-set R-square value : {:.2f}\".format(grid_search_nb.score(X_test, y_test)))\n",
        "print(\"\\n Plotting SVM ROC Curve:\")\n",
        "\n",
        "metrics.plot_roc_curve(grid_search_nb, X_test, y_test)\n",
        "plt.plot([0, 1], [0, 1], color='orange', linestyle='--')\n",
        "plt.xlabel('False Positive Rate')\n",
        "plt.ylabel('True Positive Rate')\n",
        "plt.show()"
      ],
      "metadata": {
        "colab": {
          "base_uri": "https://localhost:8080/",
          "height": 1000
        },
        "id": "s1uLmw6JT3ha",
        "outputId": "f5ecd3ae-d337-4d3c-a8de-dbe9be3538e0"
      },
      "id": "s1uLmw6JT3ha",
      "execution_count": null,
      "outputs": [
        {
          "output_type": "stream",
          "name": "stdout",
          "text": [
            "Fitting 5 folds for each of 100 candidates, totalling 500 fits\n",
            "[CV] END ..................................var_smoothing=1.0; total time=   0.0s\n",
            "[CV] END ..................................var_smoothing=1.0; total time=   0.0s\n",
            "[CV] END ..................................var_smoothing=1.0; total time=   0.0s\n",
            "[CV] END ..................................var_smoothing=1.0; total time=   0.0s\n",
            "[CV] END ..................................var_smoothing=1.0; total time=   0.0s\n",
            "[CV] END ...................var_smoothing=0.8111308307896871; total time=   0.0s\n",
            "[CV] END ...................var_smoothing=0.8111308307896871; total time=   0.0s\n",
            "[CV] END ...................var_smoothing=0.8111308307896871; total time=   0.0s\n",
            "[CV] END ...................var_smoothing=0.8111308307896871; total time=   0.0s\n",
            "[CV] END ...................var_smoothing=0.8111308307896871; total time=   0.0s\n",
            "[CV] END ....................var_smoothing=0.657933224657568; total time=   0.0s\n",
            "[CV] END ....................var_smoothing=0.657933224657568; total time=   0.0s\n",
            "[CV] END ....................var_smoothing=0.657933224657568; total time=   0.0s\n",
            "[CV] END ....................var_smoothing=0.657933224657568; total time=   0.0s\n",
            "[CV] END ....................var_smoothing=0.657933224657568; total time=   0.0s\n",
            "[CV] END ....................var_smoothing=0.533669923120631; total time=   0.0s\n",
            "[CV] END ....................var_smoothing=0.533669923120631; total time=   0.0s\n",
            "[CV] END ....................var_smoothing=0.533669923120631; total time=   0.0s\n",
            "[CV] END ....................var_smoothing=0.533669923120631; total time=   0.0s\n",
            "[CV] END ....................var_smoothing=0.533669923120631; total time=   0.0s\n",
            "[CV] END ..................var_smoothing=0.43287612810830584; total time=   0.0s\n",
            "[CV] END ..................var_smoothing=0.43287612810830584; total time=   0.0s\n",
            "[CV] END ..................var_smoothing=0.43287612810830584; total time=   0.0s\n",
            "[CV] END ..................var_smoothing=0.43287612810830584; total time=   0.0s\n",
            "[CV] END ..................var_smoothing=0.43287612810830584; total time=   0.0s\n",
            "[CV] END ...................var_smoothing=0.3511191734215131; total time=   0.0s\n",
            "[CV] END ...................var_smoothing=0.3511191734215131; total time=   0.0s\n",
            "[CV] END ...................var_smoothing=0.3511191734215131; total time=   0.0s\n",
            "[CV] END ...................var_smoothing=0.3511191734215131; total time=   0.0s\n",
            "[CV] END ...................var_smoothing=0.3511191734215131; total time=   0.0s\n",
            "[CV] END ...................var_smoothing=0.2848035868435802; total time=   0.0s\n",
            "[CV] END ...................var_smoothing=0.2848035868435802; total time=   0.0s\n",
            "[CV] END ...................var_smoothing=0.2848035868435802; total time=   0.0s\n",
            "[CV] END ...................var_smoothing=0.2848035868435802; total time=   0.0s\n",
            "[CV] END ...................var_smoothing=0.2848035868435802; total time=   0.0s\n",
            "[CV] END ..................var_smoothing=0.23101297000831597; total time=   0.0s\n",
            "[CV] END ..................var_smoothing=0.23101297000831597; total time=   0.0s\n",
            "[CV] END ..................var_smoothing=0.23101297000831597; total time=   0.0s\n",
            "[CV] END ..................var_smoothing=0.23101297000831597; total time=   0.0s\n",
            "[CV] END ..................var_smoothing=0.23101297000831597; total time=   0.0s\n",
            "[CV] END ...................var_smoothing=0.1873817422860384; total time=   0.0s\n",
            "[CV] END ...................var_smoothing=0.1873817422860384; total time=   0.0s\n",
            "[CV] END ...................var_smoothing=0.1873817422860384; total time=   0.0s\n",
            "[CV] END ...................var_smoothing=0.1873817422860384; total time=   0.0s\n",
            "[CV] END ...................var_smoothing=0.1873817422860384; total time=   0.0s\n",
            "[CV] END ..................var_smoothing=0.15199110829529336; total time=   0.0s\n",
            "[CV] END ..................var_smoothing=0.15199110829529336; total time=   0.0s\n",
            "[CV] END ..................var_smoothing=0.15199110829529336; total time=   0.0s\n",
            "[CV] END ..................var_smoothing=0.15199110829529336; total time=   0.0s\n",
            "[CV] END ..................var_smoothing=0.15199110829529336; total time=   0.0s\n",
            "[CV] END ..................var_smoothing=0.12328467394420659; total time=   0.0s\n",
            "[CV] END ..................var_smoothing=0.12328467394420659; total time=   0.0s\n",
            "[CV] END ..................var_smoothing=0.12328467394420659; total time=   0.0s\n",
            "[CV] END ..................var_smoothing=0.12328467394420659; total time=   0.0s\n",
            "[CV] END ..................var_smoothing=0.12328467394420659; total time=   0.0s\n",
            "[CV] END ..................................var_smoothing=0.1; total time=   0.0s\n",
            "[CV] END ..................................var_smoothing=0.1; total time=   0.0s\n",
            "[CV] END ..................................var_smoothing=0.1; total time=   0.0s\n",
            "[CV] END ..................................var_smoothing=0.1; total time=   0.0s\n",
            "[CV] END ..................................var_smoothing=0.1; total time=   0.0s\n",
            "[CV] END ..................var_smoothing=0.08111308307896872; total time=   0.0s\n",
            "[CV] END ..................var_smoothing=0.08111308307896872; total time=   0.0s\n",
            "[CV] END ..................var_smoothing=0.08111308307896872; total time=   0.0s\n",
            "[CV] END ..................var_smoothing=0.08111308307896872; total time=   0.0s\n",
            "[CV] END ..................var_smoothing=0.08111308307896872; total time=   0.0s\n",
            "[CV] END ...................var_smoothing=0.0657933224657568; total time=   0.0s\n",
            "[CV] END ...................var_smoothing=0.0657933224657568; total time=   0.0s\n",
            "[CV] END ...................var_smoothing=0.0657933224657568; total time=   0.0s\n",
            "[CV] END ...................var_smoothing=0.0657933224657568; total time=   0.0s\n",
            "[CV] END ...................var_smoothing=0.0657933224657568; total time=   0.0s\n",
            "[CV] END ...................var_smoothing=0.0533669923120631; total time=   0.0s\n",
            "[CV] END ...................var_smoothing=0.0533669923120631; total time=   0.0s\n",
            "[CV] END ...................var_smoothing=0.0533669923120631; total time=   0.0s\n",
            "[CV] END ...................var_smoothing=0.0533669923120631; total time=   0.0s\n",
            "[CV] END ...................var_smoothing=0.0533669923120631; total time=   0.0s\n",
            "[CV] END ..................var_smoothing=0.04328761281083057; total time=   0.0s\n",
            "[CV] END ..................var_smoothing=0.04328761281083057; total time=   0.0s\n",
            "[CV] END ..................var_smoothing=0.04328761281083057; total time=   0.0s\n",
            "[CV] END ..................var_smoothing=0.04328761281083057; total time=   0.0s\n",
            "[CV] END ..................var_smoothing=0.04328761281083057; total time=   0.0s\n",
            "[CV] END ..................var_smoothing=0.03511191734215131; total time=   0.0s\n",
            "[CV] END ..................var_smoothing=0.03511191734215131; total time=   0.0s\n",
            "[CV] END ..................var_smoothing=0.03511191734215131; total time=   0.0s\n",
            "[CV] END ..................var_smoothing=0.03511191734215131; total time=   0.0s\n",
            "[CV] END ..................var_smoothing=0.03511191734215131; total time=   0.0s\n",
            "[CV] END ..................var_smoothing=0.02848035868435802; total time=   0.0s\n",
            "[CV] END ..................var_smoothing=0.02848035868435802; total time=   0.0s\n",
            "[CV] END ..................var_smoothing=0.02848035868435802; total time=   0.0s\n",
            "[CV] END ..................var_smoothing=0.02848035868435802; total time=   0.0s\n",
            "[CV] END ..................var_smoothing=0.02848035868435802; total time=   0.0s\n",
            "[CV] END ..................var_smoothing=0.02310129700083159; total time=   0.0s\n",
            "[CV] END ..................var_smoothing=0.02310129700083159; total time=   0.0s\n",
            "[CV] END ..................var_smoothing=0.02310129700083159; total time=   0.0s\n",
            "[CV] END ..................var_smoothing=0.02310129700083159; total time=   0.0s\n",
            "[CV] END ..................var_smoothing=0.02310129700083159; total time=   0.0s\n",
            "[CV] END ..................var_smoothing=0.01873817422860384; total time=   0.0s\n",
            "[CV] END ..................var_smoothing=0.01873817422860384; total time=   0.0s\n",
            "[CV] END ..................var_smoothing=0.01873817422860384; total time=   0.0s\n",
            "[CV] END ..................var_smoothing=0.01873817422860384; total time=   0.0s\n",
            "[CV] END ..................var_smoothing=0.01873817422860384; total time=   0.0s\n",
            "[CV] END ..................var_smoothing=0.01519911082952933; total time=   0.0s\n",
            "[CV] END ..................var_smoothing=0.01519911082952933; total time=   0.0s\n",
            "[CV] END ..................var_smoothing=0.01519911082952933; total time=   0.0s\n",
            "[CV] END ..................var_smoothing=0.01519911082952933; total time=   0.0s\n",
            "[CV] END ..................var_smoothing=0.01519911082952933; total time=   0.0s\n",
            "[CV] END .................var_smoothing=0.012328467394420659; total time=   0.0s\n",
            "[CV] END .................var_smoothing=0.012328467394420659; total time=   0.0s\n",
            "[CV] END .................var_smoothing=0.012328467394420659; total time=   0.0s\n",
            "[CV] END .................var_smoothing=0.012328467394420659; total time=   0.0s\n",
            "[CV] END .................var_smoothing=0.012328467394420659; total time=   0.0s\n",
            "[CV] END .................................var_smoothing=0.01; total time=   0.0s\n",
            "[CV] END .................................var_smoothing=0.01; total time=   0.0s\n",
            "[CV] END .................................var_smoothing=0.01; total time=   0.0s\n",
            "[CV] END .................................var_smoothing=0.01; total time=   0.0s\n",
            "[CV] END .................................var_smoothing=0.01; total time=   0.0s\n",
            "[CV] END .................var_smoothing=0.008111308307896872; total time=   0.0s\n",
            "[CV] END .................var_smoothing=0.008111308307896872; total time=   0.0s\n",
            "[CV] END .................var_smoothing=0.008111308307896872; total time=   0.0s\n",
            "[CV] END .................var_smoothing=0.008111308307896872; total time=   0.0s\n",
            "[CV] END .................var_smoothing=0.008111308307896872; total time=   0.0s\n",
            "[CV] END .................var_smoothing=0.006579332246575682; total time=   0.0s\n",
            "[CV] END .................var_smoothing=0.006579332246575682; total time=   0.0s\n",
            "[CV] END .................var_smoothing=0.006579332246575682; total time=   0.0s\n",
            "[CV] END .................var_smoothing=0.006579332246575682; total time=   0.0s\n",
            "[CV] END .................var_smoothing=0.006579332246575682; total time=   0.0s\n",
            "[CV] END .................var_smoothing=0.005336699231206307; total time=   0.0s\n",
            "[CV] END .................var_smoothing=0.005336699231206307; total time=   0.0s\n",
            "[CV] END .................var_smoothing=0.005336699231206307; total time=   0.0s\n",
            "[CV] END .................var_smoothing=0.005336699231206307; total time=   0.0s\n",
            "[CV] END .................var_smoothing=0.005336699231206307; total time=   0.0s\n",
            "[CV] END .................var_smoothing=0.004328761281083057; total time=   0.0s\n",
            "[CV] END .................var_smoothing=0.004328761281083057; total time=   0.0s\n",
            "[CV] END .................var_smoothing=0.004328761281083057; total time=   0.0s\n",
            "[CV] END .................var_smoothing=0.004328761281083057; total time=   0.0s\n",
            "[CV] END .................var_smoothing=0.004328761281083057; total time=   0.0s\n",
            "[CV] END .................var_smoothing=0.003511191734215131; total time=   0.0s\n",
            "[CV] END .................var_smoothing=0.003511191734215131; total time=   0.0s\n",
            "[CV] END .................var_smoothing=0.003511191734215131; total time=   0.0s\n",
            "[CV] END .................var_smoothing=0.003511191734215131; total time=   0.0s\n",
            "[CV] END .................var_smoothing=0.003511191734215131; total time=   0.0s\n",
            "[CV] END .................var_smoothing=0.002848035868435802; total time=   0.0s\n",
            "[CV] END .................var_smoothing=0.002848035868435802; total time=   0.0s\n",
            "[CV] END .................var_smoothing=0.002848035868435802; total time=   0.0s\n",
            "[CV] END .................var_smoothing=0.002848035868435802; total time=   0.0s\n",
            "[CV] END .................var_smoothing=0.002848035868435802; total time=   0.0s\n",
            "[CV] END ................var_smoothing=0.0023101297000831605; total time=   0.0s\n",
            "[CV] END ................var_smoothing=0.0023101297000831605; total time=   0.0s\n",
            "[CV] END ................var_smoothing=0.0023101297000831605; total time=   0.0s\n",
            "[CV] END ................var_smoothing=0.0023101297000831605; total time=   0.0s\n",
            "[CV] END ................var_smoothing=0.0023101297000831605; total time=   0.0s\n",
            "[CV] END .................var_smoothing=0.001873817422860383; total time=   0.0s\n",
            "[CV] END .................var_smoothing=0.001873817422860383; total time=   0.0s\n",
            "[CV] END .................var_smoothing=0.001873817422860383; total time=   0.0s\n",
            "[CV] END .................var_smoothing=0.001873817422860383; total time=   0.0s\n",
            "[CV] END .................var_smoothing=0.001873817422860383; total time=   0.0s\n",
            "[CV] END ................var_smoothing=0.0015199110829529332; total time=   0.0s\n",
            "[CV] END ................var_smoothing=0.0015199110829529332; total time=   0.0s\n",
            "[CV] END ................var_smoothing=0.0015199110829529332; total time=   0.0s\n",
            "[CV] END ................var_smoothing=0.0015199110829529332; total time=   0.0s\n",
            "[CV] END ................var_smoothing=0.0015199110829529332; total time=   0.0s\n",
            "[CV] END ................var_smoothing=0.0012328467394420659; total time=   0.0s\n",
            "[CV] END ................var_smoothing=0.0012328467394420659; total time=   0.0s\n",
            "[CV] END ................var_smoothing=0.0012328467394420659; total time=   0.0s\n",
            "[CV] END ................var_smoothing=0.0012328467394420659; total time=   0.0s\n",
            "[CV] END ................var_smoothing=0.0012328467394420659; total time=   0.0s\n",
            "[CV] END ................................var_smoothing=0.001; total time=   0.0s\n",
            "[CV] END ................................var_smoothing=0.001; total time=   0.0s\n",
            "[CV] END ................................var_smoothing=0.001; total time=   0.0s\n",
            "[CV] END ................................var_smoothing=0.001; total time=   0.0s\n",
            "[CV] END ................................var_smoothing=0.001; total time=   0.0s\n",
            "[CV] END ................var_smoothing=0.0008111308307896872; total time=   0.0s\n",
            "[CV] END ................var_smoothing=0.0008111308307896872; total time=   0.0s\n",
            "[CV] END ................var_smoothing=0.0008111308307896872; total time=   0.0s\n",
            "[CV] END ................var_smoothing=0.0008111308307896872; total time=   0.0s\n",
            "[CV] END ................var_smoothing=0.0008111308307896872; total time=   0.0s\n",
            "[CV] END ................var_smoothing=0.0006579332246575676; total time=   0.0s\n",
            "[CV] END ................var_smoothing=0.0006579332246575676; total time=   0.0s\n",
            "[CV] END ................var_smoothing=0.0006579332246575676; total time=   0.0s\n",
            "[CV] END ................var_smoothing=0.0006579332246575676; total time=   0.0s\n",
            "[CV] END ................var_smoothing=0.0006579332246575676; total time=   0.0s\n",
            "[CV] END ................var_smoothing=0.0005336699231206307; total time=   0.0s\n",
            "[CV] END ................var_smoothing=0.0005336699231206307; total time=   0.0s\n",
            "[CV] END ................var_smoothing=0.0005336699231206307; total time=   0.0s\n",
            "[CV] END ................var_smoothing=0.0005336699231206307; total time=   0.0s\n",
            "[CV] END ................var_smoothing=0.0005336699231206307; total time=   0.0s\n",
            "[CV] END ................var_smoothing=0.0004328761281083057; total time=   0.0s\n",
            "[CV] END ................var_smoothing=0.0004328761281083057; total time=   0.0s\n",
            "[CV] END ................var_smoothing=0.0004328761281083057; total time=   0.0s\n",
            "[CV] END ................var_smoothing=0.0004328761281083057; total time=   0.0s\n",
            "[CV] END ................var_smoothing=0.0004328761281083057; total time=   0.0s\n",
            "[CV] END ................var_smoothing=0.0003511191734215131; total time=   0.0s\n",
            "[CV] END ................var_smoothing=0.0003511191734215131; total time=   0.0s\n",
            "[CV] END ................var_smoothing=0.0003511191734215131; total time=   0.0s\n",
            "[CV] END ................var_smoothing=0.0003511191734215131; total time=   0.0s\n",
            "[CV] END ................var_smoothing=0.0003511191734215131; total time=   0.0s\n",
            "[CV] END ................var_smoothing=0.0002848035868435802; total time=   0.0s\n",
            "[CV] END ................var_smoothing=0.0002848035868435802; total time=   0.0s\n",
            "[CV] END ................var_smoothing=0.0002848035868435802; total time=   0.0s\n",
            "[CV] END ................var_smoothing=0.0002848035868435802; total time=   0.0s\n",
            "[CV] END ................var_smoothing=0.0002848035868435802; total time=   0.0s\n",
            "[CV] END ................var_smoothing=0.0002310129700083158; total time=   0.0s\n",
            "[CV] END ................var_smoothing=0.0002310129700083158; total time=   0.0s\n",
            "[CV] END ................var_smoothing=0.0002310129700083158; total time=   0.0s\n",
            "[CV] END ................var_smoothing=0.0002310129700083158; total time=   0.0s\n",
            "[CV] END ................var_smoothing=0.0002310129700083158; total time=   0.0s\n",
            "[CV] END ................var_smoothing=0.0001873817422860383; total time=   0.0s\n",
            "[CV] END ................var_smoothing=0.0001873817422860383; total time=   0.0s\n",
            "[CV] END ................var_smoothing=0.0001873817422860383; total time=   0.0s\n",
            "[CV] END ................var_smoothing=0.0001873817422860383; total time=   0.0s\n",
            "[CV] END ................var_smoothing=0.0001873817422860383; total time=   0.0s\n",
            "[CV] END ................var_smoothing=0.0001519911082952933; total time=   0.0s\n",
            "[CV] END ................var_smoothing=0.0001519911082952933; total time=   0.0s\n",
            "[CV] END ................var_smoothing=0.0001519911082952933; total time=   0.0s\n",
            "[CV] END ................var_smoothing=0.0001519911082952933; total time=   0.0s\n",
            "[CV] END ................var_smoothing=0.0001519911082952933; total time=   0.0s\n",
            "[CV] END ................var_smoothing=0.0001232846739442066; total time=   0.0s\n",
            "[CV] END ................var_smoothing=0.0001232846739442066; total time=   0.0s\n",
            "[CV] END ................var_smoothing=0.0001232846739442066; total time=   0.0s\n",
            "[CV] END ................var_smoothing=0.0001232846739442066; total time=   0.0s\n",
            "[CV] END ................var_smoothing=0.0001232846739442066; total time=   0.0s\n",
            "[CV] END ...............................var_smoothing=0.0001; total time=   0.0s\n",
            "[CV] END ...............................var_smoothing=0.0001; total time=   0.0s\n",
            "[CV] END ...............................var_smoothing=0.0001; total time=   0.0s\n",
            "[CV] END ...............................var_smoothing=0.0001; total time=   0.0s\n",
            "[CV] END ...............................var_smoothing=0.0001; total time=   0.0s\n",
            "[CV] END ................var_smoothing=8.111308307896872e-05; total time=   0.0s\n",
            "[CV] END ................var_smoothing=8.111308307896872e-05; total time=   0.0s\n",
            "[CV] END ................var_smoothing=8.111308307896872e-05; total time=   0.0s\n",
            "[CV] END ................var_smoothing=8.111308307896872e-05; total time=   0.0s\n",
            "[CV] END ................var_smoothing=8.111308307896872e-05; total time=   0.0s\n",
            "[CV] END ................var_smoothing=6.579332246575683e-05; total time=   0.0s\n",
            "[CV] END ................var_smoothing=6.579332246575683e-05; total time=   0.0s\n",
            "[CV] END ................var_smoothing=6.579332246575683e-05; total time=   0.0s\n",
            "[CV] END ................var_smoothing=6.579332246575683e-05; total time=   0.0s\n",
            "[CV] END ................var_smoothing=6.579332246575683e-05; total time=   0.0s\n",
            "[CV] END ...............var_smoothing=5.3366992312063123e-05; total time=   0.0s\n",
            "[CV] END ...............var_smoothing=5.3366992312063123e-05; total time=   0.0s\n",
            "[CV] END ...............var_smoothing=5.3366992312063123e-05; total time=   0.0s\n",
            "[CV] END ...............var_smoothing=5.3366992312063123e-05; total time=   0.0s\n",
            "[CV] END ...............var_smoothing=5.3366992312063123e-05; total time=   0.0s\n",
            "[CV] END ................var_smoothing=4.328761281083062e-05; total time=   0.0s\n",
            "[CV] END ................var_smoothing=4.328761281083062e-05; total time=   0.0s\n",
            "[CV] END ................var_smoothing=4.328761281083062e-05; total time=   0.0s\n",
            "[CV] END ................var_smoothing=4.328761281083062e-05; total time=   0.0s\n",
            "[CV] END ................var_smoothing=4.328761281083062e-05; total time=   0.0s\n",
            "[CV] END ................var_smoothing=3.511191734215127e-05; total time=   0.0s\n",
            "[CV] END ................var_smoothing=3.511191734215127e-05; total time=   0.0s\n",
            "[CV] END ................var_smoothing=3.511191734215127e-05; total time=   0.0s\n",
            "[CV] END ................var_smoothing=3.511191734215127e-05; total time=   0.0s\n",
            "[CV] END ................var_smoothing=3.511191734215127e-05; total time=   0.0s\n",
            "[CV] END ................var_smoothing=2.848035868435799e-05; total time=   0.0s\n",
            "[CV] END ................var_smoothing=2.848035868435799e-05; total time=   0.0s\n",
            "[CV] END ................var_smoothing=2.848035868435799e-05; total time=   0.0s\n",
            "[CV] END ................var_smoothing=2.848035868435799e-05; total time=   0.0s\n",
            "[CV] END ................var_smoothing=2.848035868435799e-05; total time=   0.0s\n",
            "[CV] END ................var_smoothing=2.310129700083158e-05; total time=   0.0s\n",
            "[CV] END ................var_smoothing=2.310129700083158e-05; total time=   0.0s\n",
            "[CV] END ................var_smoothing=2.310129700083158e-05; total time=   0.0s\n",
            "[CV] END ................var_smoothing=2.310129700083158e-05; total time=   0.0s\n",
            "[CV] END ................var_smoothing=2.310129700083158e-05; total time=   0.0s\n",
            "[CV] END ................var_smoothing=1.873817422860383e-05; total time=   0.0s\n",
            "[CV] END ................var_smoothing=1.873817422860383e-05; total time=   0.0s\n",
            "[CV] END ................var_smoothing=1.873817422860383e-05; total time=   0.0s\n",
            "[CV] END ................var_smoothing=1.873817422860383e-05; total time=   0.0s\n",
            "[CV] END ................var_smoothing=1.873817422860383e-05; total time=   0.0s\n",
            "[CV] END ...............var_smoothing=1.5199110829529332e-05; total time=   0.0s\n",
            "[CV] END ...............var_smoothing=1.5199110829529332e-05; total time=   0.0s\n",
            "[CV] END ...............var_smoothing=1.5199110829529332e-05; total time=   0.0s\n",
            "[CV] END ...............var_smoothing=1.5199110829529332e-05; total time=   0.0s\n",
            "[CV] END ...............var_smoothing=1.5199110829529332e-05; total time=   0.0s\n",
            "[CV] END ...............var_smoothing=1.2328467394420658e-05; total time=   0.0s\n",
            "[CV] END ...............var_smoothing=1.2328467394420658e-05; total time=   0.0s\n",
            "[CV] END ...............var_smoothing=1.2328467394420658e-05; total time=   0.0s\n",
            "[CV] END ...............var_smoothing=1.2328467394420658e-05; total time=   0.0s\n",
            "[CV] END ...............var_smoothing=1.2328467394420658e-05; total time=   0.0s\n",
            "[CV] END ................................var_smoothing=1e-05; total time=   0.0s\n",
            "[CV] END ................................var_smoothing=1e-05; total time=   0.0s\n",
            "[CV] END ................................var_smoothing=1e-05; total time=   0.0s\n",
            "[CV] END ................................var_smoothing=1e-05; total time=   0.0s\n",
            "[CV] END ................................var_smoothing=1e-05; total time=   0.0s\n",
            "[CV] END ................var_smoothing=8.111308307896873e-06; total time=   0.0s\n",
            "[CV] END ................var_smoothing=8.111308307896873e-06; total time=   0.0s\n",
            "[CV] END ................var_smoothing=8.111308307896873e-06; total time=   0.0s\n",
            "[CV] END ................var_smoothing=8.111308307896873e-06; total time=   0.0s\n",
            "[CV] END ................var_smoothing=8.111308307896873e-06; total time=   0.0s\n",
            "[CV] END ................var_smoothing=6.579332246575683e-06; total time=   0.0s\n",
            "[CV] END ................var_smoothing=6.579332246575683e-06; total time=   0.0s\n",
            "[CV] END ................var_smoothing=6.579332246575683e-06; total time=   0.0s\n",
            "[CV] END ................var_smoothing=6.579332246575683e-06; total time=   0.0s\n",
            "[CV] END ................var_smoothing=6.579332246575683e-06; total time=   0.0s\n",
            "[CV] END ................var_smoothing=5.336699231206313e-06; total time=   0.0s\n",
            "[CV] END ................var_smoothing=5.336699231206313e-06; total time=   0.0s\n",
            "[CV] END ................var_smoothing=5.336699231206313e-06; total time=   0.0s\n",
            "[CV] END ................var_smoothing=5.336699231206313e-06; total time=   0.0s\n",
            "[CV] END ................var_smoothing=5.336699231206313e-06; total time=   0.0s\n",
            "[CV] END ................var_smoothing=4.328761281083053e-06; total time=   0.0s\n",
            "[CV] END ................var_smoothing=4.328761281083053e-06; total time=   0.0s\n",
            "[CV] END ................var_smoothing=4.328761281083053e-06; total time=   0.0s\n",
            "[CV] END ................var_smoothing=4.328761281083053e-06; total time=   0.0s\n",
            "[CV] END ................var_smoothing=4.328761281083053e-06; total time=   0.0s\n",
            "[CV] END ...............var_smoothing=3.5111917342151275e-06; total time=   0.0s\n",
            "[CV] END ...............var_smoothing=3.5111917342151275e-06; total time=   0.0s\n",
            "[CV] END ...............var_smoothing=3.5111917342151275e-06; total time=   0.0s\n",
            "[CV] END ...............var_smoothing=3.5111917342151275e-06; total time=   0.0s\n",
            "[CV] END ...............var_smoothing=3.5111917342151275e-06; total time=   0.0s\n",
            "[CV] END ................var_smoothing=2.848035868435799e-06; total time=   0.0s\n",
            "[CV] END ................var_smoothing=2.848035868435799e-06; total time=   0.0s\n",
            "[CV] END ................var_smoothing=2.848035868435799e-06; total time=   0.0s\n",
            "[CV] END ................var_smoothing=2.848035868435799e-06; total time=   0.0s\n",
            "[CV] END ................var_smoothing=2.848035868435799e-06; total time=   0.0s\n",
            "[CV] END ................var_smoothing=2.310129700083158e-06; total time=   0.0s\n",
            "[CV] END ................var_smoothing=2.310129700083158e-06; total time=   0.0s\n",
            "[CV] END ................var_smoothing=2.310129700083158e-06; total time=   0.0s\n",
            "[CV] END ................var_smoothing=2.310129700083158e-06; total time=   0.0s\n",
            "[CV] END ................var_smoothing=2.310129700083158e-06; total time=   0.0s\n",
            "[CV] END ................var_smoothing=1.873817422860383e-06; total time=   0.0s\n",
            "[CV] END ................var_smoothing=1.873817422860383e-06; total time=   0.0s\n",
            "[CV] END ................var_smoothing=1.873817422860383e-06; total time=   0.0s\n",
            "[CV] END ................var_smoothing=1.873817422860383e-06; total time=   0.0s\n",
            "[CV] END ................var_smoothing=1.873817422860383e-06; total time=   0.0s\n",
            "[CV] END ................var_smoothing=1.519911082952933e-06; total time=   0.0s\n",
            "[CV] END ................var_smoothing=1.519911082952933e-06; total time=   0.0s\n",
            "[CV] END ................var_smoothing=1.519911082952933e-06; total time=   0.0s\n",
            "[CV] END ................var_smoothing=1.519911082952933e-06; total time=   0.0s\n",
            "[CV] END ................var_smoothing=1.519911082952933e-06; total time=   0.0s\n",
            "[CV] END ................var_smoothing=1.232846739442066e-06; total time=   0.0s\n",
            "[CV] END ................var_smoothing=1.232846739442066e-06; total time=   0.0s\n",
            "[CV] END ................var_smoothing=1.232846739442066e-06; total time=   0.0s\n",
            "[CV] END ................var_smoothing=1.232846739442066e-06; total time=   0.0s\n",
            "[CV] END ................var_smoothing=1.232846739442066e-06; total time=   0.0s\n",
            "[CV] END ................................var_smoothing=1e-06; total time=   0.0s\n",
            "[CV] END ................................var_smoothing=1e-06; total time=   0.0s\n",
            "[CV] END ................................var_smoothing=1e-06; total time=   0.0s\n",
            "[CV] END ................................var_smoothing=1e-06; total time=   0.0s\n",
            "[CV] END ................................var_smoothing=1e-06; total time=   0.0s\n",
            "[CV] END ................var_smoothing=8.111308307896872e-07; total time=   0.0s\n",
            "[CV] END ................var_smoothing=8.111308307896872e-07; total time=   0.0s\n",
            "[CV] END ................var_smoothing=8.111308307896872e-07; total time=   0.0s\n",
            "[CV] END ................var_smoothing=8.111308307896872e-07; total time=   0.0s\n",
            "[CV] END ................var_smoothing=8.111308307896872e-07; total time=   0.0s\n",
            "[CV] END ................var_smoothing=6.579332246575682e-07; total time=   0.0s\n",
            "[CV] END ................var_smoothing=6.579332246575682e-07; total time=   0.0s\n",
            "[CV] END ................var_smoothing=6.579332246575682e-07; total time=   0.0s\n",
            "[CV] END ................var_smoothing=6.579332246575682e-07; total time=   0.0s\n",
            "[CV] END ................var_smoothing=6.579332246575682e-07; total time=   0.0s\n",
            "[CV] END ................var_smoothing=5.336699231206313e-07; total time=   0.0s\n",
            "[CV] END ................var_smoothing=5.336699231206313e-07; total time=   0.0s\n",
            "[CV] END ................var_smoothing=5.336699231206313e-07; total time=   0.0s\n",
            "[CV] END ................var_smoothing=5.336699231206313e-07; total time=   0.0s\n",
            "[CV] END ................var_smoothing=5.336699231206313e-07; total time=   0.0s\n",
            "[CV] END ...............var_smoothing=4.3287612810830526e-07; total time=   0.0s\n",
            "[CV] END ...............var_smoothing=4.3287612810830526e-07; total time=   0.0s\n",
            "[CV] END ...............var_smoothing=4.3287612810830526e-07; total time=   0.0s\n",
            "[CV] END ...............var_smoothing=4.3287612810830526e-07; total time=   0.0s\n",
            "[CV] END ...............var_smoothing=4.3287612810830526e-07; total time=   0.0s\n",
            "[CV] END ...............var_smoothing=3.5111917342151277e-07; total time=   0.0s\n",
            "[CV] END ...............var_smoothing=3.5111917342151277e-07; total time=   0.0s\n",
            "[CV] END ...............var_smoothing=3.5111917342151277e-07; total time=   0.0s\n",
            "[CV] END ...............var_smoothing=3.5111917342151277e-07; total time=   0.0s\n",
            "[CV] END ...............var_smoothing=3.5111917342151277e-07; total time=   0.0s\n",
            "[CV] END ................var_smoothing=2.848035868435799e-07; total time=   0.0s\n",
            "[CV] END ................var_smoothing=2.848035868435799e-07; total time=   0.0s\n",
            "[CV] END ................var_smoothing=2.848035868435799e-07; total time=   0.0s\n",
            "[CV] END ................var_smoothing=2.848035868435799e-07; total time=   0.0s\n",
            "[CV] END ................var_smoothing=2.848035868435799e-07; total time=   0.0s\n",
            "[CV] END ................var_smoothing=2.310129700083158e-07; total time=   0.0s\n",
            "[CV] END ................var_smoothing=2.310129700083158e-07; total time=   0.0s\n",
            "[CV] END ................var_smoothing=2.310129700083158e-07; total time=   0.0s\n",
            "[CV] END ................var_smoothing=2.310129700083158e-07; total time=   0.0s\n",
            "[CV] END ................var_smoothing=2.310129700083158e-07; total time=   0.0s\n",
            "[CV] END ................var_smoothing=1.873817422860383e-07; total time=   0.0s\n",
            "[CV] END ................var_smoothing=1.873817422860383e-07; total time=   0.0s\n",
            "[CV] END ................var_smoothing=1.873817422860383e-07; total time=   0.0s\n",
            "[CV] END ................var_smoothing=1.873817422860383e-07; total time=   0.0s\n",
            "[CV] END ................var_smoothing=1.873817422860383e-07; total time=   0.0s\n",
            "[CV] END ................var_smoothing=1.519911082952933e-07; total time=   0.0s\n",
            "[CV] END ................var_smoothing=1.519911082952933e-07; total time=   0.0s\n",
            "[CV] END ................var_smoothing=1.519911082952933e-07; total time=   0.0s\n",
            "[CV] END ................var_smoothing=1.519911082952933e-07; total time=   0.0s\n",
            "[CV] END ................var_smoothing=1.519911082952933e-07; total time=   0.0s\n",
            "[CV] END ................var_smoothing=1.232846739442066e-07; total time=   0.0s\n",
            "[CV] END ................var_smoothing=1.232846739442066e-07; total time=   0.0s\n",
            "[CV] END ................var_smoothing=1.232846739442066e-07; total time=   0.0s\n",
            "[CV] END ................var_smoothing=1.232846739442066e-07; total time=   0.0s\n",
            "[CV] END ................var_smoothing=1.232846739442066e-07; total time=   0.0s\n",
            "[CV] END ................................var_smoothing=1e-07; total time=   0.0s\n",
            "[CV] END ................................var_smoothing=1e-07; total time=   0.0s\n",
            "[CV] END ................................var_smoothing=1e-07; total time=   0.0s\n",
            "[CV] END ................................var_smoothing=1e-07; total time=   0.0s\n",
            "[CV] END ................................var_smoothing=1e-07; total time=   0.0s\n",
            "[CV] END ................var_smoothing=8.111308307896873e-08; total time=   0.0s\n",
            "[CV] END ................var_smoothing=8.111308307896873e-08; total time=   0.0s\n",
            "[CV] END ................var_smoothing=8.111308307896873e-08; total time=   0.0s\n",
            "[CV] END ................var_smoothing=8.111308307896873e-08; total time=   0.0s\n",
            "[CV] END ................var_smoothing=8.111308307896873e-08; total time=   0.0s\n",
            "[CV] END ................var_smoothing=6.579332246575682e-08; total time=   0.0s\n",
            "[CV] END ................var_smoothing=6.579332246575682e-08; total time=   0.0s\n",
            "[CV] END ................var_smoothing=6.579332246575682e-08; total time=   0.0s\n",
            "[CV] END ................var_smoothing=6.579332246575682e-08; total time=   0.0s\n",
            "[CV] END ................var_smoothing=6.579332246575682e-08; total time=   0.0s\n",
            "[CV] END ................var_smoothing=5.336699231206302e-08; total time=   0.0s\n",
            "[CV] END ................var_smoothing=5.336699231206302e-08; total time=   0.0s\n",
            "[CV] END ................var_smoothing=5.336699231206302e-08; total time=   0.0s\n",
            "[CV] END ................var_smoothing=5.336699231206302e-08; total time=   0.0s\n",
            "[CV] END ................var_smoothing=5.336699231206302e-08; total time=   0.0s\n",
            "[CV] END ...............var_smoothing=4.3287612810830526e-08; total time=   0.0s\n",
            "[CV] END ...............var_smoothing=4.3287612810830526e-08; total time=   0.0s\n",
            "[CV] END ...............var_smoothing=4.3287612810830526e-08; total time=   0.0s\n",
            "[CV] END ...............var_smoothing=4.3287612810830526e-08; total time=   0.0s\n",
            "[CV] END ...............var_smoothing=4.3287612810830526e-08; total time=   0.0s\n",
            "[CV] END ...............var_smoothing=3.5111917342151277e-08; total time=   0.0s\n",
            "[CV] END ...............var_smoothing=3.5111917342151277e-08; total time=   0.0s\n",
            "[CV] END ...............var_smoothing=3.5111917342151277e-08; total time=   0.0s\n",
            "[CV] END ...............var_smoothing=3.5111917342151277e-08; total time=   0.0s\n",
            "[CV] END ...............var_smoothing=3.5111917342151277e-08; total time=   0.0s\n",
            "[CV] END ................var_smoothing=2.848035868435799e-08; total time=   0.0s\n",
            "[CV] END ................var_smoothing=2.848035868435799e-08; total time=   0.0s\n",
            "[CV] END ................var_smoothing=2.848035868435799e-08; total time=   0.0s\n",
            "[CV] END ................var_smoothing=2.848035868435799e-08; total time=   0.0s\n",
            "[CV] END ................var_smoothing=2.848035868435799e-08; total time=   0.0s\n",
            "[CV] END ................var_smoothing=2.310129700083158e-08; total time=   0.0s\n",
            "[CV] END ................var_smoothing=2.310129700083158e-08; total time=   0.0s\n",
            "[CV] END ................var_smoothing=2.310129700083158e-08; total time=   0.0s\n",
            "[CV] END ................var_smoothing=2.310129700083158e-08; total time=   0.0s\n",
            "[CV] END ................var_smoothing=2.310129700083158e-08; total time=   0.0s\n",
            "[CV] END ................var_smoothing=1.873817422860383e-08; total time=   0.0s\n",
            "[CV] END ................var_smoothing=1.873817422860383e-08; total time=   0.0s\n",
            "[CV] END ................var_smoothing=1.873817422860383e-08; total time=   0.0s\n",
            "[CV] END ................var_smoothing=1.873817422860383e-08; total time=   0.0s\n",
            "[CV] END ................var_smoothing=1.873817422860383e-08; total time=   0.0s\n",
            "[CV] END ................var_smoothing=1.519911082952933e-08; total time=   0.0s\n",
            "[CV] END ................var_smoothing=1.519911082952933e-08; total time=   0.0s\n",
            "[CV] END ................var_smoothing=1.519911082952933e-08; total time=   0.0s\n",
            "[CV] END ................var_smoothing=1.519911082952933e-08; total time=   0.0s\n",
            "[CV] END ................var_smoothing=1.519911082952933e-08; total time=   0.0s\n",
            "[CV] END ................var_smoothing=1.232846739442066e-08; total time=   0.0s\n",
            "[CV] END ................var_smoothing=1.232846739442066e-08; total time=   0.0s\n",
            "[CV] END ................var_smoothing=1.232846739442066e-08; total time=   0.0s\n",
            "[CV] END ................var_smoothing=1.232846739442066e-08; total time=   0.0s\n",
            "[CV] END ................var_smoothing=1.232846739442066e-08; total time=   0.0s\n",
            "[CV] END ................................var_smoothing=1e-08; total time=   0.0s\n",
            "[CV] END ................................var_smoothing=1e-08; total time=   0.0s\n",
            "[CV] END ................................var_smoothing=1e-08; total time=   0.0s\n",
            "[CV] END ................................var_smoothing=1e-08; total time=   0.0s\n",
            "[CV] END ................................var_smoothing=1e-08; total time=   0.0s\n",
            "[CV] END ................var_smoothing=8.111308307896856e-09; total time=   0.0s\n",
            "[CV] END ................var_smoothing=8.111308307896856e-09; total time=   0.0s\n",
            "[CV] END ................var_smoothing=8.111308307896856e-09; total time=   0.0s\n",
            "[CV] END ................var_smoothing=8.111308307896856e-09; total time=   0.0s\n",
            "[CV] END ................var_smoothing=8.111308307896856e-09; total time=   0.0s\n",
            "[CV] END ................var_smoothing=6.579332246575682e-09; total time=   0.0s\n",
            "[CV] END ................var_smoothing=6.579332246575682e-09; total time=   0.0s\n",
            "[CV] END ................var_smoothing=6.579332246575682e-09; total time=   0.0s\n",
            "[CV] END ................var_smoothing=6.579332246575682e-09; total time=   0.0s\n",
            "[CV] END ................var_smoothing=6.579332246575682e-09; total time=   0.0s\n",
            "[CV] END ................var_smoothing=5.336699231206302e-09; total time=   0.0s\n",
            "[CV] END ................var_smoothing=5.336699231206302e-09; total time=   0.0s\n",
            "[CV] END ................var_smoothing=5.336699231206302e-09; total time=   0.0s\n",
            "[CV] END ................var_smoothing=5.336699231206302e-09; total time=   0.0s\n",
            "[CV] END ................var_smoothing=5.336699231206302e-09; total time=   0.0s\n",
            "[CV] END ................var_smoothing=4.328761281083061e-09; total time=   0.0s\n",
            "[CV] END ................var_smoothing=4.328761281083061e-09; total time=   0.0s\n",
            "[CV] END ................var_smoothing=4.328761281083061e-09; total time=   0.0s\n",
            "[CV] END ................var_smoothing=4.328761281083061e-09; total time=   0.0s\n",
            "[CV] END ................var_smoothing=4.328761281083061e-09; total time=   0.0s\n",
            "[CV] END ...............var_smoothing=3.5111917342151273e-09; total time=   0.0s\n",
            "[CV] END ...............var_smoothing=3.5111917342151273e-09; total time=   0.0s\n",
            "[CV] END ...............var_smoothing=3.5111917342151273e-09; total time=   0.0s\n",
            "[CV] END ...............var_smoothing=3.5111917342151273e-09; total time=   0.0s\n",
            "[CV] END ...............var_smoothing=3.5111917342151273e-09; total time=   0.0s\n",
            "[CV] END ................var_smoothing=2.848035868435805e-09; total time=   0.0s\n",
            "[CV] END ................var_smoothing=2.848035868435805e-09; total time=   0.0s\n",
            "[CV] END ................var_smoothing=2.848035868435805e-09; total time=   0.0s\n",
            "[CV] END ................var_smoothing=2.848035868435805e-09; total time=   0.0s\n",
            "[CV] END ................var_smoothing=2.848035868435805e-09; total time=   0.0s\n",
            "[CV] END ................var_smoothing=2.310129700083158e-09; total time=   0.0s\n",
            "[CV] END ................var_smoothing=2.310129700083158e-09; total time=   0.0s\n",
            "[CV] END ................var_smoothing=2.310129700083158e-09; total time=   0.0s\n",
            "[CV] END ................var_smoothing=2.310129700083158e-09; total time=   0.0s\n",
            "[CV] END ................var_smoothing=2.310129700083158e-09; total time=   0.0s\n",
            "[CV] END ................var_smoothing=1.873817422860387e-09; total time=   0.0s\n",
            "[CV] END ................var_smoothing=1.873817422860387e-09; total time=   0.0s\n",
            "[CV] END ................var_smoothing=1.873817422860387e-09; total time=   0.0s\n",
            "[CV] END ................var_smoothing=1.873817422860387e-09; total time=   0.0s\n",
            "[CV] END ................var_smoothing=1.873817422860387e-09; total time=   0.0s\n",
            "[CV] END ................var_smoothing=1.519911082952933e-09; total time=   0.0s\n",
            "[CV] END ................var_smoothing=1.519911082952933e-09; total time=   0.0s\n",
            "[CV] END ................var_smoothing=1.519911082952933e-09; total time=   0.0s\n",
            "[CV] END ................var_smoothing=1.519911082952933e-09; total time=   0.0s\n",
            "[CV] END ................var_smoothing=1.519911082952933e-09; total time=   0.0s\n",
            "[CV] END ...............var_smoothing=1.2328467394420635e-09; total time=   0.0s\n",
            "[CV] END ...............var_smoothing=1.2328467394420635e-09; total time=   0.0s\n",
            "[CV] END ...............var_smoothing=1.2328467394420635e-09; total time=   0.0s\n",
            "[CV] END ...............var_smoothing=1.2328467394420635e-09; total time=   0.0s\n",
            "[CV] END ...............var_smoothing=1.2328467394420635e-09; total time=   0.0s\n",
            "[CV] END ................................var_smoothing=1e-09; total time=   0.0s\n",
            "[CV] END ................................var_smoothing=1e-09; total time=   0.0s\n",
            "[CV] END ................................var_smoothing=1e-09; total time=   0.0s\n",
            "[CV] END ................................var_smoothing=1e-09; total time=   0.0s\n",
            "[CV] END ................................var_smoothing=1e-09; total time=   0.0s\n",
            "Training Time    : 4.5\n",
            "Testing Time  : 0.0012\n",
            "\n",
            "Confusion Matrix : \n",
            "[[377  54]\n",
            " [ 72 322]]\n",
            "True Negative    :  377\n",
            "False Negative   :  72\n",
            "True Positive    :  322\n",
            "False Positive   :  54\n",
            "\n",
            "Accuracy         :  0.8472727272727273\n",
            "Recall           :  0.8472727272727273\n",
            "Precision        :  0.8476379489344471\n",
            "F1 Score         :  0.8472727272727273\n",
            "\n",
            "Test-set R-square value : 0.92\n",
            "\n",
            " Plotting SVM ROC Curve:\n"
          ]
        },
        {
          "output_type": "display_data",
          "data": {
            "text/plain": [
              "<Figure size 432x288 with 1 Axes>"
            ],
            "image/png": "[encoded data removed]"
          },
          "metadata": {
            "needs_background": "light"
          }
        }
      ]
    },
    {
      "cell_type": "code",
      "source": [
        "train_auc= grid_search_nb.cv_results_['mean_train_score']\n",
        "train_auc_std= grid_search_nb.cv_results_['std_train_score']\n",
        "cv_auc = grid_search_nb.cv_results_['mean_test_score'] \n",
        "cv_auc_std= grid_search_nb.cv_results_['std_test_score']"
      ],
      "metadata": {
        "id": "VWu9hV5CUnJp"
      },
      "id": "VWu9hV5CUnJp",
      "execution_count": null,
      "outputs": []
    },
    {
      "cell_type": "code",
      "source": [
        "value = np.logspace(0,-9, num=100)\n",
        "value = value.tolist()"
      ],
      "metadata": {
        "id": "UKfOaB5xU46-"
      },
      "id": "UKfOaB5xU46-",
      "execution_count": null,
      "outputs": []
    },
    {
      "cell_type": "code",
      "source": [
        "from tqdm import tqdm\n",
        "# alpha = [0.00001,0.0005, 0.0001,0.005,0.001,0.05,0.01,0.1,0.5,1,5,10,50,100]\n",
        "val\n",
        "\n",
        "log_gamma=[]\n",
        "for val in tqdm(value):\n",
        "    val1 = math.log(val)\n",
        "    log_gamma.append(val1)\n",
        "\n",
        "plt.figure(figsize=(20,10))\n",
        "plt.plot(log_gamma, train_auc, label='Train AUC')\n",
        "# this code is copied from here: https://stackoverflow.com/a/48803361/4084039\n",
        "plt.gca().fill_between(log_gamma, train_auc - train_auc_std,train_auc + train_auc_std,alpha=0.2,color='darkblue')\n",
        "\n",
        "plt.plot(log_gamma, cv_auc, label='CV AUC')\n",
        "# this code is copied from here: https://stackoverflow.com/a/48803361/4084039\n",
        "plt.gca().fill_between(log_gamma  , cv_auc - cv_auc_std,cv_auc + cv_auc_std,alpha=0.2,color='darkorange')\n",
        "\n",
        "plt.scatter(log_gamma, train_auc, label='Train AUC points')\n",
        "plt.scatter(log_gamma, cv_auc, label='CV AUC points')\n",
        "\n",
        "\n",
        "plt.legend()\n",
        "plt.xlabel(\"alpha: hyperparameter\")\n",
        "plt.ylabel(\"AUC\")\n",
        "plt.title(\"Hyper parameter Vs AUC plot\")\n",
        "plt.grid(color='black', linestyle='-', linewidth=0.6)\n",
        "plt.show()\n"
      ],
      "metadata": {
        "colab": {
          "base_uri": "https://localhost:8080/",
          "height": 639
        },
        "id": "R-Ei9CODUxkE",
        "outputId": "0a7403e0-23e1-453b-e2b0-88529b0e1ab5"
      },
      "id": "R-Ei9CODUxkE",
      "execution_count": null,
      "outputs": [
        {
          "output_type": "stream",
          "name": "stderr",
          "text": [
            "100%|██████████| 100/100 [00:00<00:00, 364088.89it/s]\n"
          ]
        },
        {
          "output_type": "display_data",
          "data": {
            "text/plain": [
              "<Figure size 1440x720 with 1 Axes>"
            ],
            "image/png": "[encoded data removed]"
          },
          "metadata": {
            "needs_background": "light"
          }
        }
      ]
    },
    {
      "cell_type": "code",
      "source": [
        "print('Best Score seen :',grid_search_nb.best_score_)\n",
        "print('Best gamma value in whole of parameter list :',grid_search_nb.best_params_)\n",
        "print(grid_search_nb.best_index_)"
      ],
      "metadata": {
        "colab": {
          "base_uri": "https://localhost:8080/"
        },
        "id": "36lLsPHoVS4r",
        "outputId": "57a945a9-efa4-4305-d98c-81324c53b2e1"
      },
      "id": "36lLsPHoVS4r",
      "execution_count": null,
      "outputs": [
        {
          "output_type": "stream",
          "name": "stdout",
          "text": [
            "Best Score seen : 0.9400203467401083\n",
            "Best gamma value in whole of parameter list : {'var_smoothing': 0.0002848035868435802}\n",
            "39\n"
          ]
        }
      ]
    },
    {
      "cell_type": "code",
      "source": [
        "grid_search_nb.best_params_['var_smoothing']"
      ],
      "metadata": {
        "colab": {
          "base_uri": "https://localhost:8080/"
        },
        "id": "v3DcTDI7Vemw",
        "outputId": "09573e90-55f8-47e0-87fd-b3d4d466e19b"
      },
      "id": "v3DcTDI7Vemw",
      "execution_count": null,
      "outputs": [
        {
          "output_type": "execute_result",
          "data": {
            "text/plain": [
              "0.0002848035868435802"
            ]
          },
          "metadata": {},
          "execution_count": 95
        }
      ]
    },
    {
      "cell_type": "code",
      "source": [
        "def pred(pipe,data):\n",
        "  y_pred=[]\n",
        "  y_pred=grid_search_nb.predict_proba(data)[:,1]\n",
        "  return y_pred"
      ],
      "metadata": {
        "id": "24501A7rZE6q"
      },
      "id": "24501A7rZE6q",
      "execution_count": null,
      "outputs": []
    },
    {
      "cell_type": "code",
      "source": [
        "# https://scikit-learn.org/stable/modules/generated/sklearn.metrics.roc_curve.html#sklearn.metrics.roc_curve\n",
        "from sklearn.metrics import roc_curve, auc\n",
        "\n",
        "test_nb = GaussianNB(var_smoothing = grid_search_nb.best_params_['var_smoothing'])\n",
        "\n",
        "test_nb.fit(X_train, y_train)\n",
        "# roc_auc_score(y_true, y_score) the 2nd parameter should be probability estimates of the positive class\n",
        "# not the predicted outputs\n",
        "\n",
        "y_train_pred = pred(test_nb, X_train)    \n",
        "y_test_pred = pred(test_nb, X_test)\n",
        "\n",
        "\n",
        "train_fpr, train_tpr, tr_thresholds = roc_curve(y_train, y_train_pred)\n",
        "test_fpr, test_tpr, te_thresholds = roc_curve(y_test, y_test_pred)\n",
        "plt.figure(figsize=(10,10))\n",
        "plt.grid()\n",
        "\n",
        "plt.plot(train_fpr, train_tpr, label=\" AUC TRAIN =\"+str(auc(train_fpr, train_tpr)))\n",
        "plt.plot(test_fpr, test_tpr, label=\" AUC TEST =\"+str(auc(test_fpr, test_tpr)))\n",
        "plt.plot([0,1],[0,1],'g--')\n",
        "plt.legend()\n",
        "plt.xlabel(\"False Positive Rate\")\n",
        "plt.ylabel(\"True Positive Rate\")\n",
        "plt.title(\"AUC(ROC curve)\")\n",
        "plt.grid(color='black', linestyle='-', linewidth=0.5)\n",
        "plt.show()\n"
      ],
      "metadata": {
        "colab": {
          "base_uri": "https://localhost:8080/",
          "height": 621
        },
        "id": "GKsWCbjaVepV",
        "outputId": "6fa90706-5f35-4eeb-f981-e07568744ad7"
      },
      "id": "GKsWCbjaVepV",
      "execution_count": null,
      "outputs": [
        {
          "output_type": "display_data",
          "data": {
            "text/plain": [
              "<Figure size 720x720 with 1 Axes>"
            ],
            "image/png": "[encoded data removed]"
          },
          "metadata": {
            "needs_background": "light"
          }
        }
      ]
    },
    {
      "cell_type": "code",
      "source": [],
      "metadata": {
        "id": "xG2oqdYZVesE"
      },
      "id": "xG2oqdYZVesE",
      "execution_count": null,
      "outputs": []
    },
    {
      "cell_type": "code",
      "source": [],
      "metadata": {
        "id": "xtciUJLgVeuh"
      },
      "id": "xtciUJLgVeuh",
      "execution_count": null,
      "outputs": []
    },
    {
      "cell_type": "code",
      "source": [],
      "metadata": {
        "id": "rr-yDE7zVew_"
      },
      "id": "rr-yDE7zVew_",
      "execution_count": null,
      "outputs": []
    },
    {
      "cell_type": "code",
      "source": [],
      "metadata": {
        "id": "SGnLUlzdVezY"
      },
      "id": "SGnLUlzdVezY",
      "execution_count": null,
      "outputs": []
    },
    {
      "cell_type": "code",
      "source": [],
      "metadata": {
        "id": "Qt2NxbPbVe2R"
      },
      "id": "Qt2NxbPbVe2R",
      "execution_count": null,
      "outputs": []
    },
    {
      "cell_type": "markdown",
      "id": "f501a273",
      "metadata": {
        "id": "f501a273"
      },
      "source": [
        "#Comparing the results of the above used Classifier Algorithms "
      ]
    },
    {
      "cell_type": "markdown",
      "id": "3659cbe5",
      "metadata": {
        "id": "3659cbe5"
      },
      "source": [
        "### 1. Plotting graphs - Computational Times for both training and testing\n",
        "#### 1.1 Comparing Training Time"
      ]
    },
    {
      "cell_type": "code",
      "execution_count": null,
      "id": "a4abff28",
      "metadata": {
        "scrolled": true,
        "colab": {
          "base_uri": "https://localhost:8080/",
          "height": 295
        },
        "id": "a4abff28",
        "outputId": "85b51059-057f-413b-ec82-da4242b90efd"
      },
      "outputs": [
        {
          "output_type": "display_data",
          "data": {
            "text/plain": [
              "<Figure size 432x288 with 1 Axes>"
            ],
            "image/png": "[encoded data removed]"
          },
          "metadata": {
            "needs_background": "light"
          }
        }
      ],
      "source": [
        "algos = ['KNN','SVM','GaussianNB']\n",
        "training_times = [KNN_training_time, SVM_training_time,NB_training_time]\n",
        "plt.plot(algos,training_times)\n",
        "plt.title('Training Time Comparison')\n",
        "plt.xlabel('Classification Algorithms')\n",
        "plt.ylabel('Training Time')\n",
        "plt.show() "
      ]
    },
    {
      "cell_type": "markdown",
      "id": "547aa115",
      "metadata": {
        "id": "547aa115"
      },
      "source": [
        "#### 1.2 Comparing Testing Time"
      ]
    },
    {
      "cell_type": "code",
      "execution_count": null,
      "id": "35242ece",
      "metadata": {
        "colab": {
          "base_uri": "https://localhost:8080/",
          "height": 295
        },
        "id": "35242ece",
        "outputId": "a31f7f88-27ad-47a2-9df1-b8abd7ca1316"
      },
      "outputs": [
        {
          "output_type": "display_data",
          "data": {
            "text/plain": [
              "<Figure size 432x288 with 1 Axes>"
            ],
            "image/png": "[encoded data removed]"
          },
          "metadata": {
            "needs_background": "light"
          }
        }
      ],
      "source": [
        "algos = ['KNN','SVM','GaussianNB']\n",
        "testing_times = [KNN_testing_time, SVM_testing_time, NB_testing_time]\n",
        "plt.plot(algos,testing_times)\n",
        "plt.title('Testing Time Comparison')\n",
        "plt.xlabel('Classification Algorithms')\n",
        "plt.ylabel('Testing Time')\n",
        "plt.show()"
      ]
    },
    {
      "cell_type": "markdown",
      "id": "58c33cc0",
      "metadata": {
        "id": "58c33cc0"
      },
      "source": [
        "### 2. Plotting graphs - Classifier Comparison based on Accuracy, Precision, Recall and F1-Score"
      ]
    },
    {
      "cell_type": "markdown",
      "id": "2d0f1ae6",
      "metadata": {
        "id": "2d0f1ae6"
      },
      "source": [
        "#### 2.1 Comparing Accuracy"
      ]
    },
    {
      "cell_type": "code",
      "execution_count": null,
      "id": "36895562",
      "metadata": {
        "colab": {
          "base_uri": "https://localhost:8080/",
          "height": 295
        },
        "id": "36895562",
        "outputId": "4e42832e-d6d8-478b-a109-f532297f2ca7"
      },
      "outputs": [
        {
          "output_type": "display_data",
          "data": {
            "text/plain": [
              "<Figure size 432x288 with 1 Axes>"
            ],
            "image/png": "[encoded data removed]"
          },
          "metadata": {
            "needs_background": "light"
          }
        }
      ],
      "source": [
        "algos = ['KNN','SVM','NB']\n",
        "Accuracy_values = [KNN_Accuracy,SVM_Accuracy, NB_Accuracy]\n",
        "plt.plot(algos,Accuracy_values)\n",
        "plt.title('Accuracy Comparison')\n",
        "plt.xlabel('Classification Algorithms')\n",
        "plt.ylabel('Accuracy')\n",
        "plt.show()"
      ]
    },
    {
      "cell_type": "markdown",
      "id": "e0721672",
      "metadata": {
        "id": "e0721672"
      },
      "source": [
        "#### 2.2 Comparing Precision"
      ]
    },
    {
      "cell_type": "code",
      "execution_count": null,
      "id": "07f52962",
      "metadata": {
        "colab": {
          "base_uri": "https://localhost:8080/",
          "height": 295
        },
        "id": "07f52962",
        "outputId": "837b9e52-5e4c-4624-c48f-ec5bdbb61fd5"
      },
      "outputs": [
        {
          "output_type": "display_data",
          "data": {
            "text/plain": [
              "<Figure size 432x288 with 1 Axes>"
            ],
            "image/png": "[encoded data removed]"
          },
          "metadata": {
            "needs_background": "light"
          }
        }
      ],
      "source": [
        "algos = ['KNN','SVM','NB']\n",
        "Precision_values = [KNN_Precision, SVM_Precision,NB_Precision]\n",
        "plt.plot(algos,Precision_values)\n",
        "plt.title('Precision Comparison')\n",
        "plt.xlabel('Classification Algorithms')\n",
        "plt.ylabel('Precision')\n",
        "plt.show()"
      ]
    },
    {
      "cell_type": "markdown",
      "id": "e7f143d3",
      "metadata": {
        "id": "e7f143d3"
      },
      "source": [
        "#### 2.3 Comparing Recall"
      ]
    },
    {
      "cell_type": "code",
      "execution_count": null,
      "id": "00e15848",
      "metadata": {
        "colab": {
          "base_uri": "https://localhost:8080/",
          "height": 295
        },
        "id": "00e15848",
        "outputId": "4222adfb-3421-4a88-b097-d63ecbdd6123"
      },
      "outputs": [
        {
          "output_type": "display_data",
          "data": {
            "text/plain": [
              "<Figure size 432x288 with 1 Axes>"
            ],
            "image/png": "[encoded data removed]"
          },
          "metadata": {
            "needs_background": "light"
          }
        }
      ],
      "source": [
        "algos = ['KNN','SVM','NB']\n",
        "Recall_values = [KNN_Recall, SVM_Recall, NB_Recall]\n",
        "plt.plot(algos,Recall_values)\n",
        "plt.title('Recall Comparison')\n",
        "plt.xlabel('Classification Algorithms')\n",
        "plt.ylabel('Recall')\n",
        "plt.show()"
      ]
    },
    {
      "cell_type": "markdown",
      "id": "6f25ee8d",
      "metadata": {
        "id": "6f25ee8d"
      },
      "source": [
        "#### 2.4 Comparing F1-Score"
      ]
    },
    {
      "cell_type": "code",
      "execution_count": null,
      "id": "bb29ea47",
      "metadata": {
        "colab": {
          "base_uri": "https://localhost:8080/",
          "height": 295
        },
        "id": "bb29ea47",
        "outputId": "3d9dfc24-3ec0-4873-a189-7312f005339e"
      },
      "outputs": [
        {
          "output_type": "display_data",
          "data": {
            "text/plain": [
              "<Figure size 432x288 with 1 Axes>"
            ],
            "image/png": "[encoded data removed]"
          },
          "metadata": {
            "needs_background": "light"
          }
        }
      ],
      "source": [
        "algos = ['KNN','SVM','NB']\n",
        "F1Scores = [KNN_Score,SVM_Score,NB_Score ]\n",
        "plt.plot(algos,F1Scores)\n",
        "plt.title('F1-Score Comparison')\n",
        "plt.xlabel('Classification Algorithms')\n",
        "plt.ylabel('F1-Score')\n",
        "plt.show()"
      ]
    },
    {
      "cell_type": "markdown",
      "id": "35aed6a7",
      "metadata": {
        "id": "35aed6a7"
      },
      "source": [
        "### 4. Plotting graphs - Classifier Comparison based on Confusion Matrix"
      ]
    },
    {
      "cell_type": "code",
      "execution_count": null,
      "id": "8406e5f3",
      "metadata": {
        "scrolled": true,
        "id": "8406e5f3"
      },
      "outputs": [],
      "source": [
        "import seaborn as sns"
      ]
    },
    {
      "cell_type": "markdown",
      "id": "efe92b25",
      "metadata": {
        "id": "efe92b25"
      },
      "source": [
        "#### 1. Plotting Confusion Matrix for KNN"
      ]
    },
    {
      "cell_type": "code",
      "execution_count": null,
      "id": "b73af211",
      "metadata": {
        "colab": {
          "base_uri": "https://localhost:8080/",
          "height": 283
        },
        "id": "b73af211",
        "outputId": "0d126a12-2541-40e4-b133-9e264889ae2b"
      },
      "outputs": [
        {
          "output_type": "execute_result",
          "data": {
            "text/plain": [
              "<matplotlib.axes._subplots.AxesSubplot at 0x7f5db51ef670>"
            ]
          },
          "metadata": {},
          "execution_count": 105
        },
        {
          "output_type": "display_data",
          "data": {
            "text/plain": [
              "<Figure size 432x288 with 2 Axes>"
            ],
            "image/png": "[encoded data removed]"
          },
          "metadata": {
            "needs_background": "light"
          }
        }
      ],
      "source": [
        "group_names = ['True Neg','False Pos','False Neg','True Pos']\n",
        "group_counts = [\"{0:0.0f}\".format(value) for value in KNN_Confusion_Matrix.flatten()]\n",
        "group_percentages = [\"{0:.2%}\".format(value) for value in KNN_Confusion_Matrix.flatten()/np.sum(KNN_Confusion_Matrix)]\n",
        "labels = [f\"{v1}\\n{v2}\\n{v3}\" for v1, v2, v3 in zip(group_names,group_counts,group_percentages)]\n",
        "labels = np.asarray(labels).reshape(2,2)\n",
        "sns.heatmap(KNN_Confusion_Matrix, annot=labels, fmt='', cmap='Blues')"
      ]
    },
    {
      "cell_type": "markdown",
      "id": "1e9af6ef",
      "metadata": {
        "id": "1e9af6ef"
      },
      "source": [
        "#### 2. Plotting Confusion Matrix for SVM"
      ]
    },
    {
      "cell_type": "code",
      "execution_count": null,
      "id": "cb1376f8",
      "metadata": {
        "colab": {
          "base_uri": "https://localhost:8080/",
          "height": 283
        },
        "id": "cb1376f8",
        "outputId": "d5f2c064-56ca-4d8c-c880-177fae7b20d9"
      },
      "outputs": [
        {
          "output_type": "execute_result",
          "data": {
            "text/plain": [
              "<matplotlib.axes._subplots.AxesSubplot at 0x7f5db7b6d610>"
            ]
          },
          "metadata": {},
          "execution_count": 106
        },
        {
          "output_type": "display_data",
          "data": {
            "text/plain": [
              "<Figure size 432x288 with 2 Axes>"
            ],
            "image/png": "[encoded data removed]"
          },
          "metadata": {
            "needs_background": "light"
          }
        }
      ],
      "source": [
        "group_names = ['True Neg','False Pos','False Neg','True Pos']\n",
        "group_counts = [\"{0:0.0f}\".format(value) for value in SVM_Confusion_Matrix.flatten()]\n",
        "group_percentages = [\"{0:.2%}\".format(value) for value in SVM_Confusion_Matrix.flatten()/np.sum(SVM_Confusion_Matrix)]\n",
        "labels = [f\"{v1}\\n{v2}\\n{v3}\" for v1, v2, v3 in zip(group_names,group_counts,group_percentages)]\n",
        "labels = np.asarray(labels).reshape(2,2)\n",
        "sns.heatmap(SVM_Confusion_Matrix, annot=labels, fmt='', cmap='Blues')"
      ]
    },
    {
      "cell_type": "markdown",
      "id": "ead67824",
      "metadata": {
        "id": "ead67824"
      },
      "source": [
        "#### 3. Plotting Confusion Matrix for GaussianNB"
      ]
    },
    {
      "cell_type": "code",
      "execution_count": null,
      "id": "0ffd7eac",
      "metadata": {
        "colab": {
          "base_uri": "https://localhost:8080/",
          "height": 283
        },
        "id": "0ffd7eac",
        "outputId": "c0670227-a405-4531-f24b-79346ead9535"
      },
      "outputs": [
        {
          "output_type": "execute_result",
          "data": {
            "text/plain": [
              "<matplotlib.axes._subplots.AxesSubplot at 0x7f5db4f2b370>"
            ]
          },
          "metadata": {},
          "execution_count": 107
        },
        {
          "output_type": "display_data",
          "data": {
            "text/plain": [
              "<Figure size 432x288 with 2 Axes>"
            ],
            "image/png": "[encoded data removed]"
          },
          "metadata": {
            "needs_background": "light"
          }
        }
      ],
      "source": [
        "group_names = ['True Neg','False Pos','False Neg','True Pos']\n",
        "group_counts = [\"{0:0.0f}\".format(value) for value in NB_Confusion_Matrix.flatten()]\n",
        "group_percentages = [\"{0:.2%}\".format(value) for value in NB_Confusion_Matrix.flatten()/np.sum(NB_Confusion_Matrix)]\n",
        "labels = [f\"{v1}\\n{v2}\\n{v3}\" for v1, v2, v3 in zip(group_names,group_counts,group_percentages)]\n",
        "labels = np.asarray(labels).reshape(2,2)\n",
        "sns.heatmap(NB_Confusion_Matrix, annot=labels, fmt='', cmap='Blues')"
      ]
    }
  ],
  "metadata": {
    "kernelspec": {
      "display_name": "Python 3",
      "language": "python",
      "name": "python3"
    },
    "language_info": {
      "codemirror_mode": {
        "name": "ipython",
        "version": 3
      },
      "file_extension": ".py",
      "mimetype": "text/x-python",
      "name": "python",
      "nbconvert_exporter": "python",
      "pygments_lexer": "ipython3",
      "version": "3.9.5"
    },
    "colab": {
      "provenance": []
    }
  },
  "nbformat": 4,
  "nbformat_minor": 5
}